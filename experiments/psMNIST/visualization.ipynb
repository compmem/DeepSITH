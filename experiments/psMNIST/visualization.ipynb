{
 "cells": [
  {
   "cell_type": "code",
   "execution_count": null,
   "metadata": {
    "ExecuteTime": {
     "end_time": "2021-05-12T18:22:42.830086Z",
     "start_time": "2021-05-12T18:22:42.658411Z"
    }
   },
   "outputs": [],
   "source": [
    "%matplotlib inline"
   ]
  },
  {
   "cell_type": "code",
   "execution_count": null,
   "metadata": {
    "ExecuteTime": {
     "end_time": "2021-05-12T18:22:43.466784Z",
     "start_time": "2021-05-12T18:22:42.878529Z"
    }
   },
   "outputs": [],
   "source": [
    "import matplotlib.pylab as plt\n",
    "from matplotlib import gridspec\n",
    "import csv\n",
    "import numpy as np\n",
    "import pandas as pd\n",
    "import os\n",
    "import torch\n",
    "from torchvision import transforms\n",
    "from torchvision import datasets\n",
    "import seaborn as sn\n",
    "sn.set_context('poster')"
   ]
  },
  {
   "cell_type": "code",
   "execution_count": null,
   "metadata": {
    "ExecuteTime": {
     "end_time": "2021-05-12T18:22:43.492461Z",
     "start_time": "2021-05-12T18:22:43.469951Z"
    }
   },
   "outputs": [],
   "source": [
    "dats = pd.read_csv(os.path.join('perf', 'smnist_deepsith_11.csv'))\n",
    "dats.columns = ['loss', 'test_perf', 'epoch', 'presnum', 'perf']\n",
    "maxpres = 60000\n",
    "dats['presnum_epoch'] = ((dats.presnum*64) + maxpres*dats.epoch)/maxpres\n",
    "test_dats = pd.read_csv(\"perf/smnist_deepsith_test_11.csv\")\n",
    "test_dats['epoch'] = np.arange(test_dats.shape[0]) + 1\n",
    "test_dats['test'] = test_dats['0']"
   ]
  },
  {
   "cell_type": "code",
   "execution_count": null,
   "metadata": {
    "ExecuteTime": {
     "end_time": "2021-05-12T18:22:43.509426Z",
     "start_time": "2021-05-12T18:22:43.493696Z"
    }
   },
   "outputs": [],
   "source": [
    "dato = pd.read_csv(os.path.join('perf', 'pmnist_deepsith_78.csv'))\n",
    "dato.columns = ['loss', 'epoch', 'presnum', 'perf']\n",
    "maxpres = 60000\n",
    "dato['presnum_epoch'] = ((dato.presnum*64) + maxpres*dato.epoch)/maxpres\n",
    "test_dato = pd.read_csv(\"perf/pmnist_deesith_test_78.csv\")\n",
    "test_dato.epoch = test_dato.epoch+1\n",
    "test_dato.head()"
   ]
  },
  {
   "cell_type": "code",
   "execution_count": null,
   "metadata": {
    "ExecuteTime": {
     "end_time": "2021-05-12T18:23:02.475471Z",
     "start_time": "2021-05-12T18:23:02.391851Z"
    }
   },
   "outputs": [],
   "source": [
    "norm = transforms.Normalize((.1307,), (.3081,), )\n",
    "batch_size = 400\n",
    "transform = transforms.Compose([transforms.ToTensor(),\n",
    "                                transforms.Normalize((.1307,), (.3081,))\n",
    "                               ])\n",
    "ds1 = datasets.MNIST('../data', train=True, download=True, transform=transform)\n",
    "train_loader=torch.utils.data.DataLoader(ds1,batch_size=batch_size, \n",
    "                                         num_workers=1, pin_memory=True, shuffle=True)\n"
   ]
  },
  {
   "cell_type": "code",
   "execution_count": null,
   "metadata": {
    "ExecuteTime": {
     "end_time": "2021-05-12T18:22:49.041702Z",
     "start_time": "2021-05-12T18:22:49.032510Z"
    }
   },
   "outputs": [],
   "source": [
    "# Same seed and supposed Permutation as the coRNN paper\n",
    "torch.manual_seed(12008)\n",
    "permute = torch.randperm(784)"
   ]
  },
  {
   "cell_type": "code",
   "execution_count": null,
   "metadata": {
    "ExecuteTime": {
     "end_time": "2021-05-12T18:22:49.856527Z",
     "start_time": "2021-05-12T18:22:49.847567Z"
    }
   },
   "outputs": [],
   "source": [
    "dat = next(enumerate(train_loader))[1]\n",
    "dat[0].shape, dat[1].shape"
   ]
  },
  {
   "cell_type": "code",
   "execution_count": null,
   "metadata": {
    "ExecuteTime": {
     "end_time": "2021-05-12T18:22:54.876834Z",
     "start_time": "2021-05-12T18:22:54.867463Z"
    }
   },
   "outputs": [],
   "source": [
    "fig_dat = []\n",
    "for i in range(10):\n",
    "    fig_dat.append(dat[0][dat[1] == i][:10])\n",
    "fig_dat = torch.cat(fig_dat, dim=0)\n",
    "fig_dat = fig_dat.view(100,-1)#[:, permute]\n"
   ]
  },
  {
   "cell_type": "code",
   "execution_count": null,
   "metadata": {
    "ExecuteTime": {
     "end_time": "2021-05-12T18:23:07.689070Z",
     "start_time": "2021-05-12T18:23:06.492357Z"
    }
   },
   "outputs": [],
   "source": [
    "linew = 4\n",
    "with sn.plotting_context(\"notebook\", font_scale=2.8):\n",
    "    fig2 = plt.figure(figsize=(20,18), )\n",
    "    spec2 = gridspec.GridSpec(nrows=4, ncols=2, wspace=0.05, figure=fig2)\n",
    "\n",
    "\n",
    "    ax = fig2.add_subplot(spec2[-2, 1])\n",
    "    #fig, ax= plt.subplots(2,2,sharex='col', figsize=(12,10), sharey='row', )\n",
    "    sn.lineplot(data=dato, x=dato.presnum_epoch, y='perf', ax=ax, linewidth=linew,\n",
    "                color='darkblue', )\n",
    "    sn.lineplot(data=test_dato, x='epoch', y='test', ax=ax, linewidth=linew,\n",
    "                )\n",
    "    ax.grid(True)\n",
    "    ax.legend([\"Training\", \"Test\", \n",
    "               ],loc='lower right')\n",
    "    ax.set_ylabel('Accuracy')\n",
    "    ax.set_xlabel('')\n",
    "    ax.yaxis.tick_right()\n",
    "    ax.yaxis.set_label_position(\"right\")\n",
    "    plt.setp(ax.get_xticklabels(), visible=False)\n",
    "    ax.set_xlim(0,90)#)\n",
    "    ax.set_ylim(.99, 1.0005)\n",
    "\n",
    "    ax = fig2.add_subplot(spec2[-1, 1], sharex=ax)\n",
    "    sn.lineplot(data=dato, x=dato.presnum_epoch, y='loss', ax=ax,  linewidth=linew,\n",
    "                color='darkblue', legend=False)\n",
    "    ax.set_ylabel('Loss')\n",
    "\n",
    "    ax.set_xlabel('Epoch')\n",
    "    ax.yaxis.tick_right()\n",
    "    \n",
    "    ax.yaxis.set_label_position(\"right\")\n",
    "    ax.set_ylim(0,.01)#)\n",
    "    ax.grid(True)\n",
    "\n",
    "\n",
    "    \n",
    "    ax = fig2.add_subplot(spec2[-2, 0])\n",
    "    sn.lineplot(data=dats, x=dats.presnum_epoch, y='perf', ax=ax, linewidth=linew,\n",
    "                color='darkblue', )\n",
    "    sn.lineplot(data=test_dats, x='epoch', y='test', ax=ax, linewidth=linew,\n",
    "                )\n",
    "    ax.legend([\"Training\", \"Test\", \n",
    "               ],loc='lower right')\n",
    "    plt.setp(ax.get_xticklabels(), visible=False)\n",
    "    ax.grid(True)\n",
    "    ax.set_ylabel('Accuracy')\n",
    "    ax.set_xlabel('')\n",
    "    ax.set_xlim(0,60)#)\n",
    "    ax.set_ylim(.99, 1.0005)\n",
    "\n",
    "    ax = fig2.add_subplot(spec2[-1, 0], sharex=ax)\n",
    "    sn.lineplot(data=dats, x=dats.presnum_epoch, y='loss', ax=ax,  linewidth=linew,\n",
    "                color='darkblue', legend=False)\n",
    "    ax.set_ylabel('Loss')\n",
    "    ax.set_xlabel('Epoch')\n",
    "    ax.set_ylim(0,.01)#)\n",
    "    ax.grid(True)\n",
    "\n",
    "\n",
    "    \n",
    "    ax = fig2.add_subplot(spec2[:-2, 0])\n",
    "    ax.imshow(fig_dat.detach().cpu().numpy(), aspect='auto')\n",
    "    ax.tick_params(axis=u'both', which=u'both',length=0)\n",
    "    ax.set_yticks(np.arange(10,100,10))\n",
    "    ax.set_xticks([])\n",
    "    plt.setp(ax.get_yticklabels(), visible=False)\n",
    "    ax.grid(True)\n",
    "    ax.set_title('sMNIST')\n",
    "\n",
    "    ax = fig2.add_subplot(spec2[:-2, 1])\n",
    "    ax.imshow(fig_dat[:, permute].detach().cpu().numpy(), aspect='auto')\n",
    "    ax.tick_params(axis=u'both', which=u'both',length=0)\n",
    "    ax.set_yticks(np.arange(10,100,10))\n",
    "    ax.set_xticks([])\n",
    "    ax.yaxis.tick_right()\n",
    "    plt.setp(ax.get_yticklabels(), visible=False)\n",
    "    ax.grid(True)\n",
    "    ax.set_title('psMNIST')\n",
    "\n",
    "    plt.savefig('MNIST.pdf',\n",
    "                bbox='tight',\n",
    "                edgecolor=fig2.get_edgecolor(),\n",
    "                facecolor=fig2.get_facecolor(),\n",
    "                dpi=150\n",
    "                )\n",
    "    plt.savefig('MNIST.svg',\n",
    "                bbox='tight',\n",
    "                edgecolor=fig2.get_edgecolor(),\n",
    "                facecolor=fig2.get_facecolor(),\n",
    "                dpi=150\n",
    "                )\n",
    "    \n",
    "\n",
    "\n",
    "\n"
   ]
  },
  {
   "cell_type": "code",
   "execution_count": null,
   "metadata": {},
   "outputs": [],
   "source": []
  }
 ],
 "metadata": {
  "kernelspec": {
   "display_name": "Python 3",
   "language": "python",
   "name": "python3"
  },
  "language_info": {
   "codemirror_mode": {
    "name": "ipython",
    "version": 3
   },
   "file_extension": ".py",
   "mimetype": "text/x-python",
   "name": "python",
   "nbconvert_exporter": "python",
   "pygments_lexer": "ipython3",
   "version": "3.6.10"
  },
  "toc": {
   "nav_menu": {},
   "number_sections": true,
   "sideBar": true,
   "skip_h1_title": false,
   "title_cell": "Table of Contents",
   "title_sidebar": "Contents",
   "toc_cell": false,
   "toc_position": {},
   "toc_section_display": true,
   "toc_window_display": false
  }
 },
 "nbformat": 4,
 "nbformat_minor": 4
}
