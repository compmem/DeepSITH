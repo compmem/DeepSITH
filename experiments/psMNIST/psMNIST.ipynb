{
 "cells": [
  {
   "cell_type": "code",
   "execution_count": 2,
   "metadata": {
    "ExecuteTime": {
     "end_time": "2020-11-06T21:16:05.249396Z",
     "start_time": "2020-11-06T21:16:05.077158Z"
    }
   },
   "outputs": [],
   "source": [
    "%matplotlib inline"
   ]
  },
  {
   "cell_type": "code",
   "execution_count": 3,
   "metadata": {
    "ExecuteTime": {
     "end_time": "2020-11-06T21:16:05.780389Z",
     "start_time": "2020-11-06T21:16:05.250681Z"
    }
   },
   "outputs": [
    {
     "name": "stdout",
     "output_type": "stream",
     "text": [
      "True\n"
     ]
    }
   ],
   "source": [
    "import matplotlib.pyplot as plt\n",
    "\n",
    "import torch\n",
    "from sklearn.metrics import confusion_matrix\n",
    "\n",
    "import numpy as np\n",
    "\n",
    "import torch.nn as nn\n",
    "\n",
    "from tqdm import tqdm_notebook\n",
    "\n",
    "from torchvision import transforms\n",
    "from torchvision import datasets\n",
    "from os.path import join\n",
    "\n",
    "from deep_isith import DeepSITH\n",
    "\n",
    "from tqdm.notebook import tqdm\n",
    "\n",
    "import random\n",
    "\n",
    "from csv import DictWriter\n",
    "# if gpu is to be used\n",
    "use_cuda = torch.cuda.is_available()\n",
    "\n",
    "FloatTensor = torch.cuda.FloatTensor if use_cuda else torch.FloatTensor\n",
    "LongTensor = torch.cuda.LongTensor if use_cuda else torch.LongTensor\n",
    "\n",
    "ttype =FloatTensor\n",
    "\n",
    "import seaborn as sn\n",
    "print(use_cuda)\n",
    "import pickle\n",
    "\n",
    "sn.set_context(\"poster\")"
   ]
  },
  {
   "cell_type": "code",
   "execution_count": 310,
   "metadata": {
    "ExecuteTime": {
     "end_time": "2020-11-10T16:42:32.450153Z",
     "start_time": "2020-11-10T16:42:32.446343Z"
    }
   },
   "outputs": [],
   "source": [
    "class DeepSITH_Classifier(nn.Module):\n",
    "    def __init__(self, out_features, layer_params, dropout=.1):\n",
    "        super(DeepSITH_Classifier, self).__init__()\n",
    "        last_hidden = layer_params[-1]['hidden_size']\n",
    "        self.hs = DeepSITH(layer_params=layer_params, dropout=dropout)\n",
    "        self.to_out = nn.Linear(last_hidden, out_features)\n",
    "    def forward(self, inp):\n",
    "        x = self.hs(inp)\n",
    "        x = self.to_out(x)\n",
    "        return x"
   ]
  },
  {
   "cell_type": "markdown",
   "metadata": {},
   "source": [
    "# Load Stimuli"
   ]
  },
  {
   "cell_type": "code",
   "execution_count": null,
   "metadata": {},
   "outputs": [],
   "source": [
    "# Same seed and supposed Permutation as the coRNN paper\n",
    "torch.manual_seed(12008)\n",
    "permute = torch.randperm(784)"
   ]
  },
  {
   "cell_type": "code",
   "execution_count": 6,
   "metadata": {
    "ExecuteTime": {
     "end_time": "2020-11-06T21:16:06.530463Z",
     "start_time": "2020-11-06T21:16:06.528433Z"
    }
   },
   "outputs": [],
   "source": [
    "norm = transforms.Normalize((.1307,), (.3081,), )"
   ]
  },
  {
   "cell_type": "code",
   "execution_count": 7,
   "metadata": {
    "ExecuteTime": {
     "end_time": "2020-11-06T21:16:06.864634Z",
     "start_time": "2020-11-06T21:16:06.837473Z"
    }
   },
   "outputs": [],
   "source": [
    "batch_size = 20\n",
    "transform = transforms.Compose([transforms.ToTensor(),\n",
    "                                transforms.Normalize((.1307,), (.3081,))\n",
    "                               ])\n",
    "ds1 = datasets.MNIST('../data', train=True, download=True, transform=transform)\n",
    "ds2 = datasets.MNIST('../data', train=False, download=True, transform=transform)\n",
    "train_loader=torch.utils.data.DataLoader(ds1,batch_size=batch_size, \n",
    "                                         num_workers=1, pin_memory=True, shuffle=True)\n",
    "test_loader=torch.utils.data.DataLoader(ds2, batch_size=batch_size, \n",
    "                                        num_workers=1, pin_memory=True, shuffle=True)"
   ]
  },
  {
   "cell_type": "code",
   "execution_count": 152,
   "metadata": {
    "ExecuteTime": {
     "end_time": "2020-11-10T14:24:24.192023Z",
     "start_time": "2020-11-10T14:24:24.040467Z"
    }
   },
   "outputs": [
    {
     "data": {
      "text/plain": [
       "<matplotlib.colorbar.Colorbar at 0x7f257c1252b0>"
      ]
     },
     "execution_count": 152,
     "metadata": {},
     "output_type": "execute_result"
    },
    {
     "data": {
      "image/png": "[encoded data removed]",
      "text/plain": [
       "<Figure size 432x288 with 2 Axes>"
      ]
     },
     "metadata": {
      "needs_background": "light"
     },
     "output_type": "display_data"
    }
   ],
   "source": [
    "test = next(iter(test_loader))[0]\n",
    "\n",
    "plt.imshow(test[0].reshape(-1)[permute].reshape(28,28))\n",
    "\n",
    "plt.colorbar()"
   ]
  },
  {
   "cell_type": "markdown",
   "metadata": {},
   "source": [
    "# Define test and train"
   ]
  },
  {
   "cell_type": "code",
   "execution_count": 147,
   "metadata": {
    "ExecuteTime": {
     "end_time": "2020-11-10T04:09:50.801947Z",
     "start_time": "2020-11-10T04:09:50.784056Z"
    }
   },
   "outputs": [],
   "source": [
    "\n",
    "def train(model, ttype, train_loader, test_loader, optimizer, loss_func, epoch, perf_file,\n",
    "          permute=None, loss_buffer_size=800, batch_size=4, device='cuda',\n",
    "          prog_bar=None):\n",
    "    \n",
    "    assert(loss_buffer_size%batch_size==0)\n",
    "    if permute is None:\n",
    "        permute = torch.LongTensor(list(range(784)))\n",
    "        \n",
    "    losses = []\n",
    "    perfs = []\n",
    "    last_test_perf = 0\n",
    "    best_test_perf = -1\n",
    "    \n",
    "    for batch_idx, (data, target) in enumerate(train_loader):\n",
    "        model.train()\n",
    "        data = data.to(device).view(data.shape[0],1,1,-1)\n",
    "        target = target.to(device)\n",
    "        optimizer.zero_grad()\n",
    "        out = model(data[:, :, :, permute])\n",
    "        loss = loss_func(out[:, -1, :],\n",
    "                         target)\n",
    "        # Regularization: \n",
    "        if not (reg_loss is None):\n",
    "            for name, p in model.named_parameters():\n",
    "                if \"weight_v\" in name:\n",
    "                    tempp = p/(gkerns[0].unsqueeze(0).unsqueeze(0).unsqueeze(0))\n",
    "                    loss = reg_loss.regularized_param(param_weights=tempp,\n",
    "                                                      reg_loss_function=loss)   \n",
    "        loss.backward()\n",
    "        optimizer.step()\n",
    "\n",
    "        perfs.append((torch.argmax(out[:, -1, :], dim=-1) == \n",
    "                      target).sum().item())\n",
    "        perfs = perfs[int(-loss_buffer_size/batch_size):]\n",
    "        losses.append(loss.detach().cpu().numpy())\n",
    "        losses = losses[int(-loss_buffer_size/batch_size):]\n",
    "        if not (prog_bar is None):\n",
    "            # Update progress_bar\n",
    "            s = \"{}:{} Loss: {:.4f}, perf: {:.4f}, valid: {:.4f}\"\n",
    "            format_list = [e,batch_idx*batch_size, np.mean(losses), \n",
    "                           np.sum(perfs)/((len(perfs))*batch_size), last_test_perf]         \n",
    "            s = s.format(*format_list)\n",
    "            prog_bar.set_description(s)\n",
    "        \n",
    "        if ((batch_idx*batch_size)%loss_buffer_size == 0) & (batch_idx != 0):\n",
    "            loss_track = {}\n",
    "            last_test_perf = test(model, 'cuda', test_loader, \n",
    "                                  batch_size=batch_size, \n",
    "                                  permute=permute)\n",
    "            loss_track['avg_loss'] = np.mean(losses)\n",
    "            loss_track['last_test'] = last_test_perf\n",
    "            loss_track['epoch'] = epoch\n",
    "            loss_track['batch_idx'] = batch_idx\n",
    "            loss_track['train_perf']= np.sum(perfs)/((len(perfs))*batch_size)\n",
    "            with open(perf_file, 'a+') as fp:\n",
    "                csv_writer = DictWriter(fp, fieldnames=list(loss_track.keys()))\n",
    "                if fp.tell() == 0:\n",
    "                    csv_writer.writeheader()\n",
    "                csv_writer.writerow(loss_track)\n",
    "                fp.flush()\n",
    "            if best_test_perf < last_test_perf:\n",
    "                torch.save(model.state_dict(), perf_file[:-4]+\".pt\")\n",
    "                best_test_perf = last_test_perf\n",
    "\n",
    "                \n",
    "def test(model, device, test_loader, batch_size=4, permute=None):\n",
    "    if permute is None:\n",
    "        permute = torch.LongTensor(list(range(784)))\n",
    "        \n",
    "    model.eval()\n",
    "    correct = 0\n",
    "    count = 0\n",
    "    with torch.no_grad():\n",
    "        for data, target in test_loader:\n",
    "            data = data.to(device).view(data.shape[0],1,1,-1)\n",
    "            target = target.to(device)\n",
    "            \n",
    "            out = model(data[:,:,:, permute])\n",
    "            pred = out[:, -1].argmax(dim=-1, keepdim=True)\n",
    "            correct += pred.eq(target.view_as(pred)).sum().item()\n",
    "            count += 1\n",
    "    return correct / len(test_loader.dataset)"
   ]
  },
  {
   "cell_type": "markdown",
   "metadata": {},
   "source": [
    "# Setup the model"
   ]
  },
  {
   "cell_type": "code",
   "execution_count": 327,
   "metadata": {
    "ExecuteTime": {
     "end_time": "2020-11-10T16:46:38.450375Z",
     "start_time": "2020-11-10T16:46:38.436957Z"
    },
    "scrolled": true
   },
   "outputs": [
    {
     "name": "stdout",
     "output_type": "stream",
     "text": [
      "Total Weights: 76710\n",
      "DeepSITH_Classifier(\n",
      "  (hs): DeepSITH(\n",
      "    (layers): ModuleList(\n",
      "      (0): _DeepSITH_core(\n",
      "        (sith): iSITH(15 ntau from 1 to 30.0, buff_max=60, dt=1, k=50)\n",
      "        (linear): Sequential(\n",
      "          (0): Linear(in_features=15, out_features=50, bias=True)\n",
      "          (1): ReLU()\n",
      "        )\n",
      "        (dense_bn): BatchNorm1d(50, eps=1e-05, momentum=0.1, affine=True, track_running_stats=True)\n",
      "      )\n",
      "      (1): _DeepSITH_core(\n",
      "        (sith): iSITH(15 ntau from 1 to 150.0, buff_max=300, dt=1, k=25)\n",
      "        (linear): Sequential(\n",
      "          (0): Linear(in_features=750, out_features=50, bias=True)\n",
      "          (1): ReLU()\n",
      "        )\n",
      "        (dense_bn): BatchNorm1d(50, eps=1e-05, momentum=0.1, affine=True, track_running_stats=True)\n",
      "      )\n",
      "      (2): _DeepSITH_core(\n",
      "        (sith): iSITH(15 ntau from 1 to 750.0, buff_max=2000, dt=1, k=10)\n",
      "        (linear): Sequential(\n",
      "          (0): Linear(in_features=750, out_features=50, bias=True)\n",
      "          (1): ReLU()\n",
      "        )\n",
      "        (dense_bn): BatchNorm1d(50, eps=1e-05, momentum=0.1, affine=True, track_running_stats=True)\n",
      "      )\n",
      "    )\n",
      "    (dropouts): ModuleList(\n",
      "      (0): Dropout(p=0.2, inplace=False)\n",
      "      (1): Dropout(p=0.2, inplace=False)\n",
      "    )\n",
      "  )\n",
      "  (to_out): Linear(in_features=50, out_features=10, bias=True)\n",
      ")\n"
     ]
    }
   ],
   "source": [
    "sith_params1 = {\"in_features\":1, \n",
    "                \"tau_min\":1, \"tau_max\":30.0, \"buff_max\":60,\n",
    "                \"k\":50, 'dt':1,\n",
    "                \"ntau\":15, 'g':0.,  \n",
    "                \"ttype\":ttype, \n",
    "                \"hidden_size\":50, \"act_func\":nn.ReLU()\n",
    "               }\n",
    "sith_params2 = {\"in_features\":sith_params1['hidden_size'], \n",
    "                \"tau_min\":1, \"tau_max\":150.0, \"buff_max\":300,\n",
    "                \"k\":25, 'dt':1,\n",
    "                \"ntau\":15, 'g':0., \n",
    "                \"ttype\":ttype, \n",
    "                \"hidden_size\":50, \"act_func\":nn.ReLU()\n",
    "                }\n",
    "sith_params3 = {\"in_features\":sith_params2['hidden_size'], \n",
    "                \"tau_min\":1, \"tau_max\":750.0, \"buff_max\":2000,\n",
    "                \"k\":10, 'dt':1,\n",
    "                \"ntau\":15, 'g':0., \n",
    "                \"ttype\":ttype, \n",
    "                \"hidden_size\":50, \"act_func\":nn.ReLU()\n",
    "                }\n",
    "layer_params = [sith_params1, sith_params2, sith_params3]\n",
    "\n",
    "\n",
    "model = DeepSITH_Classifier(10,\n",
    "                           layer_params=layer_params, \n",
    "                           dropout=0.2).cuda()\n",
    "\n",
    "tot_weights = 0\n",
    "for p in model.parameters():\n",
    "    tot_weights += p.numel()\n",
    "print(\"Total Weights:\", tot_weights)\n",
    "print(model)"
   ]
  },
  {
   "cell_type": "markdown",
   "metadata": {},
   "source": [
    "# Verify the iSITH filters"
   ]
  },
  {
   "cell_type": "code",
   "execution_count": 145,
   "metadata": {
    "ExecuteTime": {
     "end_time": "2020-11-10T04:09:22.890827Z",
     "start_time": "2020-11-10T04:09:22.685317Z"
    }
   },
   "outputs": [
    {
     "name": "stdout",
     "output_type": "stream",
     "text": [
      "0.2749955266809756\n",
      "0.4303261869275459\n"
     ]
    },
    {
     "data": {
      "image/png": "[encoded data removed]",
      "text/plain": [
       "<Figure size 576x720 with 3 Axes>"
      ]
     },
     "metadata": {
      "needs_background": "light"
     },
     "output_type": "display_data"
    }
   ],
   "source": [
    "fig = plt.figure(figsize=(8,10))\n",
    "print(model.hs.layers[0].sith.c)\n",
    "print(model.hs.layers[1].sith.c)\n",
    "ax = fig.add_subplot(3,1,1)\n",
    "ax.plot(model.hs.layers[0].sith.filters[:, 0, 0, :].detach().cpu().T.numpy()[::-1],\n",
    "       );\n",
    "ax = fig.add_subplot(3,1,2)\n",
    "ax.plot(model.hs.layers[1].sith.filters[:, 0, 0, :].detach().cpu().T.numpy()[::-1],\n",
    "        );\n",
    "ax = fig.add_subplot(3,1,3)\n",
    "ax.plot(model.hs.layers[2].sith.filters[:, 0, 0, :].detach().cpu().T.numpy()[::-1],\n",
    "        );"
   ]
  },
  {
   "cell_type": "code",
   "execution_count": 329,
   "metadata": {
    "ExecuteTime": {
     "end_time": "2020-11-11T15:16:21.592386Z",
     "start_time": "2020-11-11T03:33:53.022340Z"
    },
    "scrolled": true
   },
   "outputs": [
    {
     "data": {
      "application/vnd.jupyter.widget-view+json": {
       "model_id": "82741e2d0f504caca4daa330209edda4",
       "version_major": 2,
       "version_minor": 0
      },
      "text/plain": [
       "HBox(children=(FloatProgress(value=0.0, max=80.0), HTML(value='')))"
      ]
     },
     "metadata": {},
     "output_type": "display_data"
    },
    {
     "name": "stdout",
     "output_type": "stream",
     "text": [
      "\n"
     ]
    },
    {
     "name": "stderr",
     "output_type": "stream",
     "text": [
      "Traceback (most recent call last):\n",
      "  File \"/home/bgj5hk/bin/anaconda3/lib/python3.6/multiprocessing/queues.py\", line 240, in _feed\n",
      "    send_bytes(obj)\n",
      "  File \"/home/bgj5hk/bin/anaconda3/lib/python3.6/multiprocessing/connection.py\", line 200, in send_bytes\n",
      "    self._send_bytes(m[offset:offset + size])\n",
      "  File \"/home/bgj5hk/bin/anaconda3/lib/python3.6/multiprocessing/connection.py\", line 404, in _send_bytes\n",
      "    self._send(header + buf)\n",
      "  File \"/home/bgj5hk/bin/anaconda3/lib/python3.6/multiprocessing/connection.py\", line 368, in _send\n",
      "    n = write(self._handle, buf)\n",
      "BrokenPipeError: [Errno 32] Broken pipe\n"
     ]
    },
    {
     "ename": "KeyboardInterrupt",
     "evalue": "",
     "output_type": "error",
     "traceback": [
      "\u001b[0;31m---------------------------------------------------------------------------\u001b[0m",
      "\u001b[0;31mKeyboardInterrupt\u001b[0m                         Traceback (most recent call last)",
      "\u001b[0;32m<ipython-input-329-6869d7028ac7>\u001b[0m in \u001b[0;36m<module>\u001b[0;34m\u001b[0m\n\u001b[1;32m      5\u001b[0m     train(model, ttype, train_loader, test_loader, optimizer, loss_func, batch_size=batch_size,\n\u001b[1;32m      6\u001b[0m           \u001b[0mepoch\u001b[0m\u001b[0;34m=\u001b[0m\u001b[0me\u001b[0m\u001b[0;34m,\u001b[0m \u001b[0mperf_file\u001b[0m\u001b[0;34m=\u001b[0m\u001b[0mjoin\u001b[0m\u001b[0;34m(\u001b[0m\u001b[0;34m'perf'\u001b[0m\u001b[0;34m,\u001b[0m\u001b[0;34m'pmnist_deepsith_50.csv'\u001b[0m\u001b[0;34m)\u001b[0m\u001b[0;34m,\u001b[0m\u001b[0mloss_buffer_size\u001b[0m\u001b[0;34m=\u001b[0m\u001b[0;36m2000\u001b[0m\u001b[0;34m,\u001b[0m\u001b[0;34m\u001b[0m\u001b[0;34m\u001b[0m\u001b[0m\n\u001b[0;32m----> 7\u001b[0;31m           prog_bar=progress_bar, permute=permute)\n\u001b[0m",
      "\u001b[0;32m<ipython-input-147-4cdaff4c1b28>\u001b[0m in \u001b[0;36mtrain\u001b[0;34m(model, ttype, train_loader, test_loader, optimizer, loss_func, epoch, perf_file, permute, loss_buffer_size, batch_size, device, reg_loss, prog_bar)\u001b[0m\n\u001b[1;32m     30\u001b[0m \u001b[0;34m\u001b[0m\u001b[0m\n\u001b[1;32m     31\u001b[0m         perfs.append((torch.argmax(out[:, -1, :], dim=-1) == \n\u001b[0;32m---> 32\u001b[0;31m                       target).sum().item())\n\u001b[0m\u001b[1;32m     33\u001b[0m         \u001b[0mperfs\u001b[0m \u001b[0;34m=\u001b[0m \u001b[0mperfs\u001b[0m\u001b[0;34m[\u001b[0m\u001b[0mint\u001b[0m\u001b[0;34m(\u001b[0m\u001b[0;34m-\u001b[0m\u001b[0mloss_buffer_size\u001b[0m\u001b[0;34m/\u001b[0m\u001b[0mbatch_size\u001b[0m\u001b[0;34m)\u001b[0m\u001b[0;34m:\u001b[0m\u001b[0;34m]\u001b[0m\u001b[0;34m\u001b[0m\u001b[0;34m\u001b[0m\u001b[0m\n\u001b[1;32m     34\u001b[0m         \u001b[0mlosses\u001b[0m\u001b[0;34m.\u001b[0m\u001b[0mappend\u001b[0m\u001b[0;34m(\u001b[0m\u001b[0mloss\u001b[0m\u001b[0;34m.\u001b[0m\u001b[0mdetach\u001b[0m\u001b[0;34m(\u001b[0m\u001b[0;34m)\u001b[0m\u001b[0;34m.\u001b[0m\u001b[0mcpu\u001b[0m\u001b[0;34m(\u001b[0m\u001b[0;34m)\u001b[0m\u001b[0;34m.\u001b[0m\u001b[0mnumpy\u001b[0m\u001b[0;34m(\u001b[0m\u001b[0;34m)\u001b[0m\u001b[0;34m)\u001b[0m\u001b[0;34m\u001b[0m\u001b[0;34m\u001b[0m\u001b[0m\n",
      "\u001b[0;31mKeyboardInterrupt\u001b[0m: "
     ]
    }
   ],
   "source": [
    "epochs = 120\n",
    "loss_func = nn.CrossEntropyLoss()\n",
    "optimizer = torch.optim.Adam(model.parameters())\n",
    "progress_bar = tqdm(range(int(epochs)), bar_format='{l_bar}{bar:5}{r_bar}{bar:-5b}')\n",
    "\n",
    "for e in progress_bar:\n",
    "    train(model, ttype, train_loader, test_loader, optimizer, loss_func, batch_size=batch_size,\n",
    "          epoch=e, perf_file=join('perf','pmnist_deepsith_50.csv'),loss_buffer_size=2000, \n",
    "          prog_bar=progress_bar, permute=permute)"
   ]
  },
  {
   "cell_type": "markdown",
   "metadata": {
    "ExecuteTime": {
     "end_time": "2020-11-02T01:31:22.277851Z",
     "start_time": "2020-11-02T01:31:22.275272Z"
    }
   },
   "source": [
    "# Find Errors"
   ]
  },
  {
   "cell_type": "code",
   "execution_count": 220,
   "metadata": {
    "ExecuteTime": {
     "end_time": "2020-11-10T14:51:23.948941Z",
     "start_time": "2020-11-10T14:51:23.944246Z"
    }
   },
   "outputs": [],
   "source": [
    "def conf_mat_gen(model, device, test_loader, batch_size=4, permute=None):\n",
    "    if permute is None:\n",
    "        permute = torch.LongTensor(list(range(784)))\n",
    "    evals = {'pred':[],\n",
    "             'actual':[]}\n",
    "    model.eval()\n",
    "    correct = 0\n",
    "    count = 0\n",
    "    with torch.no_grad():\n",
    "        for data, target in test_loader:\n",
    "            data = data.to(device).view(data.shape[0],1,1,-1)\n",
    "            target = target.to(device)\n",
    "            for x in target:\n",
    "                evals['actual'].append(x.detach().cpu().numpy())\n",
    "            out = model(data[:,:,:, permute])\n",
    "            for x in out[:, -1].argmax(dim=-1, keepdim=True):\n",
    "                evals['pred'].append(x.detach().cpu().numpy())\n",
    "    return evals"
   ]
  },
  {
   "cell_type": "code",
   "execution_count": 221,
   "metadata": {
    "ExecuteTime": {
     "end_time": "2020-11-10T14:51:36.918179Z",
     "start_time": "2020-11-10T14:51:25.179622Z"
    }
   },
   "outputs": [],
   "source": [
    "evals = conf_mat_gen(model, 'cuda', test_loader, batch_size=4, permute=permute)"
   ]
  },
  {
   "cell_type": "code",
   "execution_count": 227,
   "metadata": {
    "ExecuteTime": {
     "end_time": "2020-11-10T14:53:19.261434Z",
     "start_time": "2020-11-10T14:53:18.926905Z"
    }
   },
   "outputs": [
    {
     "data": {
      "image/png": "[encoded data removed]",
      "text/plain": [
       "<Figure size 720x792 with 2 Axes>"
      ]
     },
     "metadata": {
      "needs_background": "light"
     },
     "output_type": "display_data"
    }
   ],
   "source": [
    "fig = plt.figure(figsize=(10,11))\n",
    "plt.imshow(confusion_matrix(np.array(evals['pred'])[:, 0], \n",
    "                            np.array(evals['actual'])), cmap='coolwarm')\n",
    "plt.colorbar()\n",
    "plt.xticks(list(range(10)));\n",
    "plt.yticks(list(range(10)));\n",
    "plt.savefig(join('figs', 'sMNIST_LoLa_conf'), dpi=200, bboxinches='tight')"
   ]
  }
 ],
 "metadata": {
  "kernelspec": {
   "display_name": "Python 3",
   "language": "python",
   "name": "python3"
  },
  "language_info": {
   "codemirror_mode": {
    "name": "ipython",
    "version": 3
   },
   "file_extension": ".py",
   "mimetype": "text/x-python",
   "name": "python",
   "nbconvert_exporter": "python",
   "pygments_lexer": "ipython3",
   "version": "3.6.10"
  },
  "toc": {
   "nav_menu": {},
   "number_sections": true,
   "sideBar": true,
   "skip_h1_title": false,
   "title_cell": "Table of Contents",
   "title_sidebar": "Contents",
   "toc_cell": false,
   "toc_position": {},
   "toc_section_display": true,
   "toc_window_display": false
  }
 },
 "nbformat": 4,
 "nbformat_minor": 4
}
