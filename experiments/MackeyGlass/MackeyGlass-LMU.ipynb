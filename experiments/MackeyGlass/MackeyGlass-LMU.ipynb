{
 "cells": [
  {
   "cell_type": "code",
   "execution_count": 1,
   "metadata": {
    "ExecuteTime": {
     "end_time": "2020-11-22T23:58:12.939513Z",
     "start_time": "2020-11-22T23:58:12.756314Z"
    }
   },
   "outputs": [],
   "source": [
    "%matplotlib inline"
   ]
  },
  {
   "cell_type": "code",
   "execution_count": 2,
   "metadata": {
    "ExecuteTime": {
     "end_time": "2020-11-22T23:58:13.889482Z",
     "start_time": "2020-11-22T23:58:12.940407Z"
    }
   },
   "outputs": [
    {
     "name": "stdout",
     "output_type": "stream",
     "text": [
      "True\n"
     ]
    }
   ],
   "source": [
    "import torch\n",
    "import matplotlib.pyplot as plt\n",
    "import torchvision\n",
    "import numpy as np\n",
    "import torch.nn as nn\n",
    "import torch.nn.functional as F\n",
    "from tqdm import tqdm_notebook\n",
    "import PIL\n",
    "from torch.nn.utils import weight_norm\n",
    "from torch.autograd import Variable\n",
    "import nengolib\n",
    "device = torch.device('cuda' if torch.cuda.is_available() else 'cpu')\n",
    "\n",
    "from os.path import join\n",
    "import scipy.special\n",
    "import pandas as pd\n",
    "import seaborn as sn\n",
    "import scipy\n",
    "from scipy.spatial.distance import euclidean\n",
    "from scipy.interpolate import interp1d\n",
    "from tqdm.notebook import tqdm\n",
    "import random\n",
    "from csv import DictWriter\n",
    "from lmu import LegendreMemoryUnit\n",
    "\n",
    "# if gpu is to be used\n",
    "use_cuda = torch.cuda.is_available()\n",
    "FloatTensor = torch.cuda.FloatTensor if use_cuda else torch.FloatTensor\n",
    "DoubleTensor = torch.cuda.DoubleTensor if use_cuda else torch.DoubleTensor\n",
    "\n",
    "IntTensor = torch.cuda.IntTensor if use_cuda else torch.IntTensor\n",
    "LongTensor = torch.cuda.LongTensor if use_cuda else torch.LongTensor\n",
    "ByteTensor = torch.cuda.ByteTensor if use_cuda else torch.ByteTensor\n",
    "ttype = FloatTensor\n",
    "\n",
    "import seaborn as sns\n",
    "print(use_cuda)\n",
    "import pickle\n"
   ]
  },
  {
   "cell_type": "code",
   "execution_count": 3,
   "metadata": {
    "ExecuteTime": {
     "end_time": "2020-11-22T23:58:14.014472Z",
     "start_time": "2020-11-22T23:58:13.890905Z"
    }
   },
   "outputs": [
    {
     "ename": "NameError",
     "evalue": "name 'lmu_params' is not defined",
     "output_type": "error",
     "traceback": [
      "\u001b[0;31m---------------------------------------------------------------------------\u001b[0m",
      "\u001b[0;31mNameError\u001b[0m                                 Traceback (most recent call last)",
      "\u001b[0;32m<ipython-input-3-5d4d94702e86>\u001b[0m in \u001b[0;36m<module>\u001b[0;34m\u001b[0m\n\u001b[0;32m----> 1\u001b[0;31m \u001b[0mlmu_test\u001b[0m \u001b[0;34m=\u001b[0m \u001b[0mLegendreMemoryUnit\u001b[0m\u001b[0;34m(\u001b[0m\u001b[0;34m**\u001b[0m\u001b[0mlmu_params\u001b[0m\u001b[0;34m[\u001b[0m\u001b[0;36m0\u001b[0m\u001b[0;34m]\u001b[0m\u001b[0;34m)\u001b[0m\u001b[0;34m.\u001b[0m\u001b[0mcuda\u001b[0m\u001b[0;34m(\u001b[0m\u001b[0;34m)\u001b[0m\u001b[0;34m\u001b[0m\u001b[0;34m\u001b[0m\u001b[0m\n\u001b[0m\u001b[1;32m      2\u001b[0m \u001b[0;34m\u001b[0m\u001b[0m\n",
      "\u001b[0;31mNameError\u001b[0m: name 'lmu_params' is not defined"
     ]
    }
   ],
   "source": [
    "lmu_test = LegendreMemoryUnit(**lmu_params[0]).cuda()\n",
    "                                "
   ]
  },
  {
   "cell_type": "code",
   "execution_count": 125,
   "metadata": {
    "ExecuteTime": {
     "end_time": "2020-11-22T22:16:02.396357Z",
     "start_time": "2020-11-22T22:16:02.391438Z"
    }
   },
   "outputs": [
    {
     "data": {
      "text/plain": [
       "torch.Size([64, 5000, 1])"
      ]
     },
     "execution_count": 125,
     "metadata": {},
     "output_type": "execute_result"
    }
   ],
   "source": [
    "inp.shape"
   ]
  },
  {
   "cell_type": "code",
   "execution_count": 124,
   "metadata": {
    "ExecuteTime": {
     "end_time": "2020-11-22T22:15:56.947272Z",
     "start_time": "2020-11-22T22:15:55.630456Z"
    }
   },
   "outputs": [
    {
     "data": {
      "text/plain": [
       "torch.Size([64, 5000, 49])"
      ]
     },
     "execution_count": 124,
     "metadata": {},
     "output_type": "execute_result"
    }
   ],
   "source": [
    "lmu_test(inp)[0].shape"
   ]
  },
  {
   "cell_type": "code",
   "execution_count": 75,
   "metadata": {
    "ExecuteTime": {
     "end_time": "2020-11-20T18:44:18.060218Z",
     "start_time": "2020-11-20T18:44:18.054423Z"
    }
   },
   "outputs": [],
   "source": [
    "sn.set_context(\"poster\")"
   ]
  },
  {
   "cell_type": "code",
   "execution_count": null,
   "metadata": {},
   "outputs": [],
   "source": []
  },
  {
   "cell_type": "code",
   "execution_count": 4,
   "metadata": {
    "ExecuteTime": {
     "end_time": "2020-11-22T23:58:16.318098Z",
     "start_time": "2020-11-22T23:58:16.314240Z"
    }
   },
   "outputs": [],
   "source": [
    "class LMUModel(nn.Module):\n",
    "    def __init__(self, n_out, layer_params):\n",
    "        super(LMUModel, self).__init__()\n",
    "        self.layers = nn.ModuleList([LegendreMemoryUnit(**layer_params[i])\n",
    "                                      for i in range(len(layer_params))])\n",
    "        self.dense = nn.Linear(layer_params[-1]['hidden_size'], n_out)\n",
    "\n",
    "        \n",
    "    def forward(self, x):\n",
    "        for l in self.layers:\n",
    "            x, _ = l(x)    \n",
    "        x = self.dense(x)\n",
    "        return x"
   ]
  },
  {
   "cell_type": "code",
   "execution_count": 5,
   "metadata": {
    "ExecuteTime": {
     "end_time": "2020-11-22T23:58:18.304456Z",
     "start_time": "2020-11-22T23:58:16.498082Z"
    }
   },
   "outputs": [
    {
     "name": "stdout",
     "output_type": "stream",
     "text": [
      "Total Weights: 18130\n",
      "LMUModel(\n",
      "  (layers): ModuleList(\n",
      "    (0): LegendreMemoryUnit(\n",
      "      (lmucell): LMUCell()\n",
      "    )\n",
      "    (1): LegendreMemoryUnit(\n",
      "      (lmucell): LMUCell()\n",
      "    )\n",
      "    (2): LegendreMemoryUnit(\n",
      "      (lmucell): LMUCell()\n",
      "    )\n",
      "    (3): LegendreMemoryUnit(\n",
      "      (lmucell): LMUCell()\n",
      "    )\n",
      "  )\n",
      "  (dense): Linear(in_features=49, out_features=1, bias=True)\n",
      ")\n"
     ]
    }
   ],
   "source": [
    "\n",
    "\n",
    "lmu_params = [dict(input_dim=1, hidden_size=49, order=4, theta=4),\n",
    "              dict(input_dim=49, hidden_size=49, order=4, theta=4),\n",
    "              dict(input_dim=49, hidden_size=49, order=4, theta=4),\n",
    "              dict(input_dim=49, hidden_size=49, order=4, theta=4),\n",
    "             ]\n",
    "model = LMUModel(1, lmu_params).cuda()\n",
    "\n",
    "tot_weights = 0\n",
    "for p in model.parameters():\n",
    "    tot_weights += p.numel()\n",
    "print(\"Total Weights:\", tot_weights)\n",
    "print(model)\n"
   ]
  },
  {
   "cell_type": "code",
   "execution_count": 8,
   "metadata": {
    "ExecuteTime": {
     "end_time": "2020-11-22T23:58:26.552759Z",
     "start_time": "2020-11-22T23:58:26.547576Z"
    }
   },
   "outputs": [],
   "source": [
    "inp = next(enumerate(dataset_valid))[1][0]\n"
   ]
  },
  {
   "cell_type": "code",
   "execution_count": 10,
   "metadata": {
    "ExecuteTime": {
     "end_time": "2020-11-22T23:58:39.538986Z",
     "start_time": "2020-11-22T23:58:34.783600Z"
    }
   },
   "outputs": [
    {
     "data": {
      "text/plain": [
       "torch.Size([64, 5000, 1])"
      ]
     },
     "execution_count": 10,
     "metadata": {},
     "output_type": "execute_result"
    }
   ],
   "source": []
  },
  {
   "cell_type": "markdown",
   "metadata": {},
   "source": [
    "# Load Stimuli"
   ]
  },
  {
   "cell_type": "code",
   "execution_count": 6,
   "metadata": {
    "ExecuteTime": {
     "end_time": "2020-11-22T23:58:19.785860Z",
     "start_time": "2020-11-22T23:58:19.777073Z"
    }
   },
   "outputs": [],
   "source": [
    "import collections\n",
    "\n",
    "def mackey_glass(sample_len=1000, tau=17, delta_t=10, seed=None, n_samples=1):\n",
    "    # Adapted from https://github.com/mila-iqia/summerschool2015/blob/master/rnn_tutorial/synthetic.py\n",
    "    '''\n",
    "    mackey_glass(sample_len=1000, tau=17, seed = None, n_samples = 1) -> input\n",
    "    Generate the Mackey Glass time-series. Parameters are:\n",
    "        - sample_len: length of the time-series in timesteps. Default is 1000.\n",
    "        - tau: delay of the MG - system. Commonly used values are tau=17 (mild \n",
    "          chaos) and tau=30 (moderate chaos). Default is 17.\n",
    "        - seed: to seed the random generator, can be used to generate the same\n",
    "          timeseries at each invocation.\n",
    "        - n_samples : number of samples to generate\n",
    "    '''\n",
    "    history_len = tau * delta_t \n",
    "    # Initial conditions for the history of the system\n",
    "    timeseries = 1.2\n",
    "    \n",
    "    if seed is not None:\n",
    "        np.random.seed(seed)\n",
    "\n",
    "    samples = []\n",
    "\n",
    "    for _ in range(n_samples):\n",
    "        history = collections.deque(1.2 * np.ones(history_len) + 0.2 * \\\n",
    "                                    (np.random.rand(history_len) - 0.5))\n",
    "        # Preallocate the array for the time-series\n",
    "        inp = np.zeros((sample_len,1))\n",
    "        \n",
    "        for timestep in range(sample_len):\n",
    "            for _ in range(delta_t):\n",
    "                xtau = history.popleft()\n",
    "                history.append(timeseries)\n",
    "                timeseries = history[-1] + (0.2 * xtau / (1.0 + xtau ** 10) - \\\n",
    "                             0.1 * history[-1]) / delta_t\n",
    "            inp[timestep] = timeseries\n",
    "        \n",
    "        # Squash timeseries through tanh\n",
    "        inp = np.tanh(inp - 1)\n",
    "        samples.append(inp)\n",
    "    return samples\n",
    "\n",
    "\n",
    "def generate_data(n_batches, length, split=0.5, seed=0,\n",
    "                  predict_length=15, tau=17, washout=100, delta_t=1,\n",
    "                  center=True):\n",
    "    X = np.asarray(mackey_glass(\n",
    "        sample_len=length+predict_length+washout, tau=tau,\n",
    "        seed=seed, n_samples=n_batches))\n",
    "    X = X[:, washout:, :]\n",
    "    cutoff = int(split*n_batches)\n",
    "    if center:\n",
    "        X -= np.mean(X)  # global mean over all batches, approx -0.066\n",
    "    Y = X[:, predict_length:, :]\n",
    "    X = X[:, :-predict_length, :]\n",
    "    assert X.shape == Y.shape\n",
    "    return ((X[:cutoff], Y[:cutoff]),\n",
    "            (X[cutoff:], Y[cutoff:]))"
   ]
  },
  {
   "cell_type": "code",
   "execution_count": 17,
   "metadata": {
    "ExecuteTime": {
     "end_time": "2020-11-23T00:01:08.908146Z",
     "start_time": "2020-11-23T00:01:02.195098Z"
    }
   },
   "outputs": [
    {
     "name": "stdout",
     "output_type": "stream",
     "text": [
      "(64, 5000, 1) (64, 5000, 1) (64, 5000, 1)\n"
     ]
    }
   ],
   "source": [
    "(train_X, train_Y), (test_X, test_Y) = generate_data(128, 5000)\n",
    "dataset = torch.utils.data.TensorDataset(torch.Tensor(train_X).cuda(), torch.Tensor(train_Y).cuda())\n",
    "dataset = torch.utils.data.DataLoader(dataset, batch_size=32, shuffle=True)\n",
    "\n",
    "dataset_valid = torch.utils.data.TensorDataset(torch.Tensor(test_X).cuda(), torch.Tensor(test_Y).cuda())\n",
    "dataset_valid = torch.utils.data.DataLoader(dataset_valid, batch_size=64, shuffle=False)\n",
    "\n",
    "print(train_X.shape, train_Y.shape, test_X.shape)"
   ]
  },
  {
   "cell_type": "markdown",
   "metadata": {},
   "source": [
    "## Setup for Model"
   ]
  },
  {
   "cell_type": "code",
   "execution_count": 11,
   "metadata": {
    "ExecuteTime": {
     "end_time": "2020-11-22T23:59:00.446770Z",
     "start_time": "2020-11-22T23:59:00.434373Z"
    }
   },
   "outputs": [],
   "source": [
    "\n",
    "def train(model, ttype, train_loader, test_loader, optimizer, loss_func, epoch, perf_file,\n",
    "          loss_buffer_size=800, batch_size=4, device='cuda',\n",
    "          prog_bar=None):\n",
    "    \n",
    "    assert(loss_buffer_size%batch_size==0)\n",
    "        \n",
    "    losses = []\n",
    "    last_test_perf = 0\n",
    "    best_test_perf = 1000\n",
    "    \n",
    "    for batch_idx, (data, target) in enumerate(train_loader):\n",
    "        model.train()\n",
    "        data = data.to(device)\n",
    "        target = target.to(device)\n",
    "        optimizer.zero_grad()\n",
    "        out = model(data)\n",
    "        loss = loss_func(out,\n",
    "                         target)\n",
    "\n",
    "        loss.backward()\n",
    "        optimizer.step()\n",
    "\n",
    "        losses.append(loss.detach().cpu().numpy())\n",
    "        losses = losses[int(-loss_buffer_size/batch_size):]\n",
    "        \n",
    "        if ((batch_idx*batch_size)%loss_buffer_size == 0):\n",
    "            loss_track = {}\n",
    "            last_test_perf = test_model(model, 'cuda', test_loader, \n",
    "                                  )\n",
    "            loss_track['avg_loss'] = np.mean(losses)\n",
    "            loss_track['last_test'] = last_test_perf\n",
    "            loss_track['epoch'] = epoch\n",
    "            loss_track['batch_idx'] = batch_idx\n",
    "            with open(perf_file, 'a+') as fp:\n",
    "                csv_writer = DictWriter(fp, fieldnames=list(loss_track.keys()))\n",
    "                if fp.tell() == 0:\n",
    "                    csv_writer.writeheader()\n",
    "                csv_writer.writerow(loss_track)\n",
    "                fp.flush()\n",
    "            if best_test_perf > last_test_perf:\n",
    "                torch.save(model.state_dict(), perf_file[:-4]+\".pt\")\n",
    "                best_test_perf = last_test_perf\n",
    "        if not (prog_bar is None):\n",
    "            # Update progress_bar\n",
    "            s = \"{}:{} Loss: {:.4f},valid: {:.4f}\"\n",
    "            format_list = [e,batch_idx*batch_size, np.mean(losses), \n",
    "                           last_test_perf]         \n",
    "            s = s.format(*format_list)\n",
    "            prog_bar.set_description(s)\n",
    "                \n",
    "def test_model(model, device, test_loader):\n",
    "    # Test the Model\n",
    "    nrmsd = []\n",
    "    with torch.no_grad():\n",
    "        for x, y in test_loader:\n",
    "            data = x.to(device)\n",
    "            target = y.to(device)\n",
    "            optimizer.zero_grad()\n",
    "            out = model(data)\n",
    "            nrmsd.append(nengolib.signal.nrmse(out.detach().cpu().numpy().flatten(), \n",
    "                                               target=target.detach().cpu().numpy().flatten()))\n",
    "    perf = np.array(nrmsd).mean()\n",
    "    return perf"
   ]
  },
  {
   "cell_type": "code",
   "execution_count": 20,
   "metadata": {
    "ExecuteTime": {
     "end_time": "2020-11-23T00:02:05.035387Z",
     "start_time": "2020-11-23T00:02:05.024776Z"
    },
    "scrolled": true
   },
   "outputs": [
    {
     "name": "stdout",
     "output_type": "stream",
     "text": [
      "1\n",
      "49\n",
      "4\n",
      "49\n",
      "2401\n",
      "196\n",
      "16\n",
      "4\n",
      "49\n",
      "49\n",
      "4\n",
      "2401\n",
      "2401\n",
      "196\n",
      "16\n",
      "4\n",
      "49\n",
      "49\n",
      "4\n",
      "2401\n",
      "2401\n",
      "196\n",
      "16\n",
      "4\n",
      "49\n",
      "49\n",
      "4\n",
      "2401\n",
      "2401\n",
      "196\n",
      "16\n",
      "4\n",
      "49\n",
      "1\n",
      "Total Weights: 18130\n",
      "LMUModel(\n",
      "  (layers): ModuleList(\n",
      "    (0): LegendreMemoryUnit(\n",
      "      (lmucell): LMUCell()\n",
      "    )\n",
      "    (1): LegendreMemoryUnit(\n",
      "      (lmucell): LMUCell()\n",
      "    )\n",
      "    (2): LegendreMemoryUnit(\n",
      "      (lmucell): LMUCell()\n",
      "    )\n",
      "    (3): LegendreMemoryUnit(\n",
      "      (lmucell): LMUCell()\n",
      "    )\n",
      "  )\n",
      "  (dense): Linear(in_features=49, out_features=1, bias=True)\n",
      ")\n"
     ]
    }
   ],
   "source": [
    "\n",
    "\n",
    "lmu_params = [dict(input_dim=1, hidden_size=49, order=4, theta=4),\n",
    "              dict(input_dim=49, hidden_size=49, order=4, theta=4),\n",
    "              dict(input_dim=49, hidden_size=49, order=4, theta=4),\n",
    "              dict(input_dim=49, hidden_size=49, order=4, theta=4),\n",
    "             ]\n",
    "model = LMUModel(1, lmu_params).cuda()\n",
    "\n",
    "tot_weights = 0\n",
    "for p in model.parameters():\n",
    "    print(p.numel())\n",
    "    tot_weights += p.numel()\n",
    "print(\"Total Weights:\", tot_weights)\n",
    "print(model)"
   ]
  },
  {
   "cell_type": "code",
   "execution_count": 13,
   "metadata": {
    "ExecuteTime": {
     "end_time": "2020-11-22T23:59:18.657174Z",
     "start_time": "2020-11-22T23:59:14.108253Z"
    }
   },
   "outputs": [
    {
     "data": {
      "text/plain": [
       "torch.Size([64, 5000, 1])"
      ]
     },
     "execution_count": 13,
     "metadata": {},
     "output_type": "execute_result"
    }
   ],
   "source": [
    "model(inp).shape"
   ]
  },
  {
   "cell_type": "code",
   "execution_count": 21,
   "metadata": {
    "ExecuteTime": {
     "end_time": "2020-11-23T09:49:23.138635Z",
     "start_time": "2020-11-23T00:02:08.952050Z"
    }
   },
   "outputs": [
    {
     "data": {
      "application/vnd.jupyter.widget-view+json": {
       "model_id": "875e6e6c5ec447259eefa6a7dafa02c2",
       "version_major": 2,
       "version_minor": 0
      },
      "text/plain": [
       "HBox(children=(FloatProgress(value=0.0, max=1000.0), HTML(value='')))"
      ]
     },
     "metadata": {},
     "output_type": "display_data"
    },
    {
     "name": "stdout",
     "output_type": "stream",
     "text": [
      "\n"
     ]
    }
   ],
   "source": [
    "optimizer = torch.optim.Adam(model.parameters())\n",
    "loss_func = nn.MSELoss()\n",
    "\n",
    "epochs = 1000\n",
    "batch_size = 32\n",
    "progress_bar = tqdm(range(int(epochs)), bar_format='{l_bar}{bar:5}{r_bar}{bar:-5b}')\n",
    "last_perf = 1000\n",
    "for e in progress_bar:\n",
    "    train(model, ttype, dataset, dataset_valid, \n",
    "          optimizer, loss_func, batch_size=batch_size, loss_buffer_size=64,\n",
    "          epoch=e, perf_file=join('perf','mackeyglass_lmu_10.csv'),\n",
    "          prog_bar=progress_bar)"
   ]
  },
  {
   "cell_type": "code",
   "execution_count": 13,
   "metadata": {
    "ExecuteTime": {
     "end_time": "2020-11-19T03:18:55.614301Z",
     "start_time": "2020-11-19T03:18:21.205774Z"
    }
   },
   "outputs": [
    {
     "name": "stdout",
     "output_type": "stream",
     "text": [
      "> \u001b[0;32m<ipython-input-12-b159598f1528>\u001b[0m(9)\u001b[0;36m<module>\u001b[0;34m()\u001b[0m\n",
      "\u001b[0;32m      5 \u001b[0;31m\u001b[0;32mfor\u001b[0m \u001b[0me\u001b[0m \u001b[0;32min\u001b[0m \u001b[0mprogress_bar\u001b[0m\u001b[0;34m:\u001b[0m\u001b[0;34m\u001b[0m\u001b[0;34m\u001b[0m\u001b[0m\n",
      "\u001b[0m\u001b[0;32m      6 \u001b[0;31m    last_perf = train(model, ttype, train_X, train_Y, test_X, test_Y, \n",
      "\u001b[0m\u001b[0;32m      7 \u001b[0;31m                      \u001b[0moptimizer\u001b[0m\u001b[0;34m,\u001b[0m \u001b[0mloss_func\u001b[0m\u001b[0;34m,\u001b[0m \u001b[0mbatch_size\u001b[0m\u001b[0;34m=\u001b[0m\u001b[0mbatch_size\u001b[0m\u001b[0;34m,\u001b[0m \u001b[0mlast_perf\u001b[0m\u001b[0;34m=\u001b[0m\u001b[0mlast_perf\u001b[0m\u001b[0;34m,\u001b[0m\u001b[0;34m\u001b[0m\u001b[0;34m\u001b[0m\u001b[0m\n",
      "\u001b[0m\u001b[0;32m      8 \u001b[0;31m                      \u001b[0mepoch\u001b[0m\u001b[0;34m=\u001b[0m\u001b[0me\u001b[0m\u001b[0;34m,\u001b[0m \u001b[0mperf_file\u001b[0m\u001b[0;34m=\u001b[0m\u001b[0mjoin\u001b[0m\u001b[0;34m(\u001b[0m\u001b[0;34m'perf'\u001b[0m\u001b[0;34m,\u001b[0m\u001b[0;34m'mackeyglass_LSTM_3.csv'\u001b[0m\u001b[0;34m)\u001b[0m\u001b[0;34m,\u001b[0m\u001b[0;34m\u001b[0m\u001b[0;34m\u001b[0m\u001b[0m\n",
      "\u001b[0m\u001b[0;32m----> 9 \u001b[0;31m                      prog_bar=progress_bar, loss_buffer_size=32)\n",
      "\u001b[0m\n",
      "--KeyboardInterrupt--\n",
      "ipdb> quit\n"
     ]
    }
   ],
   "source": [
    "debug"
   ]
  },
  {
   "cell_type": "code",
   "execution_count": 72,
   "metadata": {
    "ExecuteTime": {
     "end_time": "2020-11-20T14:31:17.392914Z",
     "start_time": "2020-11-20T14:31:16.867678Z"
    }
   },
   "outputs": [
    {
     "data": {
      "image/png": "[encoded data removed]",
      "text/plain": [
       "<Figure size 1440x504 with 2 Axes>"
      ]
     },
     "metadata": {
      "needs_background": "light"
     },
     "output_type": "display_data"
    }
   ],
   "source": [
    "dat = pd.read_csv(join('perf', 'mackeyglass_lmu_4.csv'))\n",
    "maxpres = 64\n",
    "dat['presnum_epoch'] = ((dat.batch_idx) + maxpres*dat.epoch)/maxpres\n",
    "\n",
    "\n",
    "fig = plt.figure(figsize=(20,7))\n",
    "ax = fig.add_subplot(1,2,1)\n",
    "sn.lineplot(data=dat, x=dat.presnum_epoch, y='last_test', \n",
    "            color='blue', ax=ax)\n",
    "\n",
    "ax.grid(True)\n",
    "ax.legend([\"Training\", \n",
    "           ])\n",
    "ax.set_xlim(0, 500)\n",
    "#ax.set_ylim(.00, .05)\n",
    "ax.set_yscale('log')\n",
    "ax = fig.add_subplot(1,2,2)\n",
    "sn.lineplot(data=dat, x=dat.presnum_epoch, y='avg_loss', \n",
    "            color='blue',ax=ax)\n",
    "\n",
    "ax.set_xlim(0, 500)\n",
    "ax.set_yscale('log')\n",
    "\n",
    "ax.legend([\"Test NRMSD\"])\n",
    "ax.grid(True)\n"
   ]
  },
  {
   "cell_type": "code",
   "execution_count": null,
   "metadata": {
    "ExecuteTime": {
     "start_time": "2020-11-17T15:01:57.280Z"
    }
   },
   "outputs": [],
   "source": [
    "import pickle"
   ]
  },
  {
   "cell_type": "code",
   "execution_count": null,
   "metadata": {
    "ExecuteTime": {
     "start_time": "2020-11-17T15:01:57.282Z"
    }
   },
   "outputs": [],
   "source": [
    "with open('LMU_data.dil', 'rb') as f:\n",
    "    dats = pickle.load(f)"
   ]
  },
  {
   "cell_type": "code",
   "execution_count": null,
   "metadata": {
    "ExecuteTime": {
     "start_time": "2020-11-17T15:01:57.283Z"
    }
   },
   "outputs": [],
   "source": [
    "fig = plt.figure(figsize=(12,7))\n",
    "\n",
    "plt.plot(np.arange(0, 500, 1), dats[0], linewidth=3)\n",
    "plt.plot(np.arange(0, 500, 1), dats[1], linewidth=3)\n",
    "plt.plot(np.arange(0, 500, 1), dats[2], linewidth=3)\n",
    "plt.plot(np.arange(0, 500, 1), perf['loss'][::32], color='purple', linewidth=3)\n",
    "plt.yscale('log')\n",
    "plt.legend(['LSTM', 'LMU', 'Hybrid', 'DeepSITH'])\n",
    "plt.savefig('performance')\n",
    "sns.despine(offset=15)\n",
    "plt.savefig('mackey_glass_perf', dpi=200)"
   ]
  },
  {
   "cell_type": "code",
   "execution_count": null,
   "metadata": {
    "ExecuteTime": {
     "start_time": "2020-11-17T15:01:57.284Z"
    }
   },
   "outputs": [],
   "source": [
    "# Impulse-based SITH class\n",
    "class iSITH():\n",
    "    def __init__(self, tau_min=.1, tau_max=20., buff_max=100, k=8, ntau=10, dt=.01, g=0.0):\n",
    "        # save inputs\n",
    "        self.k = k\n",
    "        self.tau_min = tau_min\n",
    "        self.tau_max = tau_max\n",
    "        self.ntau = ntau\n",
    "        self.dt = dt\n",
    "        self.g = g        # calc tau_star\n",
    "        self.c = (self.tau_max/self.tau_min)**(1./(ntau-1))-1\n",
    "        self.tau_star = self.tau_min * (1 + self.c)**np.arange(ntau)        # determine the time points in steps of dt\n",
    "        self.times = np.arange(dt, buff_max+dt, dt)        # fill the ftilde filters\n",
    "        a = np.log(k)*k\n",
    "        b = np.log(np.arange(2,k)).sum()\n",
    "        A = ((1/self.tau_star)*(np.exp(a-b))*(self.tau_star**self.g))[:, np.newaxis]\n",
    "        self.filters = A*np.exp((np.log(self.times[np.newaxis, :]/self.tau_star[:, np.newaxis])*(k+1)) + \\\n",
    "                                (k*(-self.times[np.newaxis, :]/self.tau_star[:, np.newaxis])))        #A = ((1/self.tau_star)*(k**(k)/factorial(k-1))*(self.tau_star**self.g))[:, np.newaxis]\n",
    "        #self.filters = A*((self.times[np.newaxis, :]/self.tau_star[:, np.newaxis])**(k+1)) * \\\n",
    "        #                np.exp(k*(-self.times[np.newaxis, :]/self.tau_star[:, np.newaxis]))    def present(self, x):\n",
    "        # make sure input is features by time\n",
    "        x = np.atleast_2d(x)        # get num points to save from the convolution\n",
    "        xlen = x.shape[-1]        # loop over features and taustars performing the convolution\n",
    "        # note we're scaling the output by both dt and the k/(k+1)\n",
    "        return np.array([[signal.convolve(self.filters[i], x[j])[:xlen]\n",
    "                            for i in range(len(self.filters))]\n",
    "                         for j in range(len(x))])*self.dt*self.k/(self.k+1)"
   ]
  },
  {
   "cell_type": "code",
   "execution_count": null,
   "metadata": {
    "ExecuteTime": {
     "start_time": "2020-11-17T15:01:57.286Z"
    }
   },
   "outputs": [],
   "source": [
    "model.eval()\n",
    "fig = plt.figure(figsize=(15,4))\n",
    "\n",
    "idx = 9\n",
    "out = model(test_X[idx].view(1,1,1,-1))[0]\n",
    "plt.plot(test_Y[idx][-1000:].detach().cpu().numpy(), linewidth=5)\n",
    "plt.plot(out[-1000:].detach().cpu().numpy())\n",
    "plt.legend(['Test Out', 'DS Prediction'])\n",
    "model.train();\n",
    "print('Normalized RMSD:', np.sqrt(((test_Y[idx].detach().cpu().numpy() - out.detach().cpu().numpy())**2).mean()/\n",
    "                                  (test_Y[idx].detach().cpu().numpy()**2).mean()))\n",
    "sns.despine(offset=15)\n",
    "\n",
    "plt.savefig('long_boy')"
   ]
  },
  {
   "cell_type": "code",
   "execution_count": null,
   "metadata": {
    "ExecuteTime": {
     "start_time": "2020-11-17T15:01:57.288Z"
    }
   },
   "outputs": [],
   "source": [
    "model.eval()\n",
    "out = model(train_X[idx].view(1,1,1,-1))[0]\n",
    "plt.plot(train_Y[idx][-1000:].detach().cpu().numpy())\n",
    "plt.plot(out[-1000:].detach().cpu().numpy())\n",
    "model.train();\n",
    "print('Normalized RMSD:', np.sqrt(((train_Y[idx].detach().cpu().numpy() - out.detach().cpu().numpy())**2).mean()/\n",
    "                                  (train_Y[idx].detach().cpu().numpy()**2).mean()))"
   ]
  },
  {
   "cell_type": "code",
   "execution_count": null,
   "metadata": {
    "ExecuteTime": {
     "start_time": "2020-11-17T15:01:57.290Z"
    }
   },
   "outputs": [],
   "source": [
    "model.eval()\n",
    "nrmsd = []\n",
    "for idx in range(test_X.shape[0]):\n",
    "    out = model(test_X[idx].view(1,1,1,-1))[0]\n",
    "    nrmsd.append(np.sqrt(((test_Y[idx].detach().cpu().numpy() - out.detach().cpu().numpy())**2).mean()/\n",
    "                                  (test_Y[idx].detach().cpu().numpy()**2).mean()))\n",
    "model.train();\n",
    "i\n",
    "print('Avg Normalized RMSD:', np.array(nrmsd).mean())"
   ]
  },
  {
   "cell_type": "code",
   "execution_count": null,
   "metadata": {
    "ExecuteTime": {
     "start_time": "2020-11-17T15:01:57.291Z"
    }
   },
   "outputs": [],
   "source": [
    "model.eval()\n",
    "def_scale = 5000\n",
    "res = {'nrmsd':[],\n",
    "       'sig_leng':[]}\n",
    "for num in range(1000, 10000, 500):\n",
    "    nrmsd = []\n",
    "    #_, (test_X, test_Y) = generate_data(128, num)\n",
    "    #train_X = ttype(train_X).view(64, 1, 1, num)\n",
    "    #train_Y = ttype(train_Y).view(64, num, 1)\n",
    "    #test_Xhalf = ttype(test_X).view(64, 1, 1, num)\n",
    "    #test_Yhalf = ttype(test_Y).view(64, num, 1)\n",
    "    for idx in range(test_X.shape[0]):\n",
    "        f = scipy.interpolate.interp1d(np.arange(0, def_scale, 1),\n",
    "                                       test_X[idx].view(-1).detach().cpu())\n",
    "        new_X = f(np.arange(0, def_scale-1*(num/def_scale), 1/(num/def_scale)))\n",
    "        \n",
    "        f = scipy.interpolate.interp1d(np.arange(0, def_scale, 1),\n",
    "                                       test_Y[idx].view(-1).detach().cpu())\n",
    "        new_Y = f(np.arange(0, def_scale-1*(num/def_scale), 1/(num/def_scale)))\n",
    "        \n",
    "        out = model(ttype(new_X).view(1,1,1,-1))[0]\n",
    "        nrmsd.append(np.sqrt(((new_Y - out.view(-1).detach().cpu().numpy())**2).mean()/\n",
    "                                      (new_Y**2).mean()))\n",
    "    res['nrmsd'].append(np.array(nrmsd).mean())\n",
    "    res['sig_leng'].append(num)\n",
    "    print('Avg Normalized RMSD at {}:'.format(num), np.array(nrmsd).mean())\n",
    "model.train();\n",
    "dat = pd.DataFrame(res)\n",
    "dat.to_pickle(\"DS_RES_MG.dill\")"
   ]
  },
  {
   "cell_type": "code",
   "execution_count": null,
   "metadata": {
    "ExecuteTime": {
     "start_time": "2020-11-17T15:01:57.293Z"
    }
   },
   "outputs": [],
   "source": [
    "dat_2 = pd.read_pickle(open(\"LOLA_RES_MG.dill\", 'rb'))\n",
    "dat = pd.read_pickle(open(\"DS_RES_MG.dill\", 'rb'))\n"
   ]
  },
  {
   "cell_type": "code",
   "execution_count": null,
   "metadata": {
    "ExecuteTime": {
     "end_time": "2020-09-14T15:27:40.651185Z",
     "start_time": "2020-09-14T15:27:40.642947Z"
    }
   },
   "outputs": [],
   "source": [
    "\n"
   ]
  },
  {
   "cell_type": "code",
   "execution_count": null,
   "metadata": {
    "ExecuteTime": {
     "start_time": "2020-11-17T15:01:57.295Z"
    }
   },
   "outputs": [],
   "source": [
    "fig = plt.figure(figsize=(10,7))\n",
    "\n",
    "plt.plot(np.arange(1000, 9600, 500)/5000, dat['nrmsd'])\n",
    "plt.plot(np.arange(1000, 9600, 500)/5000, dat_2['nrmsd'])\n",
    "plt.legend(['DeepSITH', 'LoLa'])\n",
    "plt.xlabel(\"scale\")\n",
    "plt.ylabel(\"NRMSD\")\n",
    "plt.savefig(\"LoLavsDS\")"
   ]
  },
  {
   "cell_type": "code",
   "execution_count": null,
   "metadata": {},
   "outputs": [],
   "source": []
  }
 ],
 "metadata": {
  "kernelspec": {
   "display_name": "Python 3",
   "language": "python",
   "name": "python3"
  },
  "language_info": {
   "codemirror_mode": {
    "name": "ipython",
    "version": 3
   },
   "file_extension": ".py",
   "mimetype": "text/x-python",
   "name": "python",
   "nbconvert_exporter": "python",
   "pygments_lexer": "ipython3",
   "version": "3.6.10"
  },
  "toc": {
   "nav_menu": {},
   "number_sections": true,
   "sideBar": true,
   "skip_h1_title": false,
   "title_cell": "Table of Contents",
   "title_sidebar": "Contents",
   "toc_cell": false,
   "toc_position": {},
   "toc_section_display": true,
   "toc_window_display": false
  }
 },
 "nbformat": 4,
 "nbformat_minor": 4
}
