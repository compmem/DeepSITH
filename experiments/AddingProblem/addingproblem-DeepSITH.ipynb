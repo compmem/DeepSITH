{
 "cells": [
  {
   "cell_type": "code",
   "execution_count": null,
   "metadata": {
    "ExecuteTime": {
     "end_time": "2021-05-11T01:58:03.840040Z",
     "start_time": "2021-05-11T01:58:03.669085Z"
    }
   },
   "outputs": [],
   "source": [
    "%matplotlib inline"
   ]
  },
  {
   "cell_type": "code",
   "execution_count": null,
   "metadata": {
    "ExecuteTime": {
     "end_time": "2021-05-11T01:58:04.573198Z",
     "start_time": "2021-05-11T01:58:03.906889Z"
    }
   },
   "outputs": [],
   "source": [
    "import matplotlib.pylab as plt\n",
    "import torch\n",
    "import numpy as np\n",
    "import seaborn as sn\n",
    "sn.set_context(\"poster\")\n",
    "import os\n",
    "import torch\n",
    "import torch.nn as nn\n",
    "import torch.nn.functional as F\n",
    "from torch.nn.utils import weight_norm\n",
    "from torchvision import transforms, datasets\n",
    "\n",
    "from deepsith import DeepSITH\n",
    "\n",
    "import numpy as np\n",
    "import scipy\n",
    "import scipy.stats as st\n",
    "import scipy.special\n",
    "import scipy.signal\n",
    "import scipy.interpolate\n",
    "\n",
    "import pandas as pd\n",
    "\n",
    "from os.path import join\n",
    "import random\n",
    "from csv import DictWriter\n",
    "\n",
    "from tqdm.notebook import tqdm\n",
    "import pickle\n",
    "# if gpu is to be used\n",
    "use_cuda = torch.cuda.is_available()\n",
    "print(use_cuda)\n",
    "FloatTensor = torch.cuda.FloatTensor if use_cuda else torch.FloatTensor\n",
    "DoubleTensor = torch.cuda.DoubleTensor if use_cuda else torch.DoubleTensor\n",
    "IntTensor = torch.cuda.IntTensor if use_cuda else torch.IntTensor\n",
    "LongTensor = torch.cuda.LongTensor if use_cuda else torch.LongTensor\n",
    "ByteTensor = torch.cuda.ByteTensor if use_cuda else torch.ByteTensor\n",
    "ttype = FloatTensor"
   ]
  },
  {
   "cell_type": "code",
   "execution_count": null,
   "metadata": {
    "ExecuteTime": {
     "end_time": "2021-05-11T01:58:04.580075Z",
     "start_time": "2021-05-11T01:58:04.574838Z"
    }
   },
   "outputs": [],
   "source": [
    "import torch\n",
    "import numpy as np\n",
    "\n",
    "def get_batch(batch_size, T, ttype):\n",
    "    values = torch.rand(T, batch_size, requires_grad=False)\n",
    "    indices = torch.zeros_like(values)\n",
    "    half = int(T / 2)\n",
    "    for i in range(batch_size):\n",
    "        half_1 = np.random.randint(half)\n",
    "        hals_2 = np.random.randint(half, T)\n",
    "        indices[half_1, i] = 1\n",
    "        indices[hals_2, i] = 1\n",
    "\n",
    "    data = torch.stack((values, indices), dim=-1).type(ttype)\n",
    "    targets = torch.mul(values, indices).sum(dim=0).type(ttype)\n",
    "    return data, targets\n"
   ]
  },
  {
   "cell_type": "code",
   "execution_count": null,
   "metadata": {
    "ExecuteTime": {
     "end_time": "2021-05-11T01:58:04.594008Z",
     "start_time": "2021-05-11T01:58:04.581479Z"
    }
   },
   "outputs": [],
   "source": [
    "torch.manual_seed(1111)"
   ]
  },
  {
   "cell_type": "code",
   "execution_count": null,
   "metadata": {
    "ExecuteTime": {
     "end_time": "2021-02-14T18:58:21.368573Z",
     "start_time": "2021-02-14T18:58:21.357928Z"
    }
   },
   "outputs": [],
   "source": [
    "def train(model, ttype, seq_length, optimizer, loss_func, \n",
    "          epoch, perf_file, loss_buffer_size=20, batch_size=1, test_size=10,\n",
    "          device='cuda', prog_bar=None):\n",
    "    assert(loss_buffer_size%batch_size==0)\n",
    "\n",
    "    losses = []\n",
    "    perfs = []\n",
    "    last_test_perf = 0\n",
    "    for batch_idx in range(20000):\n",
    "        model.train()\n",
    "        sig, target = get_batch(batch_size, seq_length, ttype=ttype)\n",
    "        sig = sig.transpose(0,1).transpose(1,2).unsqueeze(1)\n",
    "        target = target.unsqueeze(1)\n",
    "        optimizer.zero_grad()\n",
    "        out = model(sig)\n",
    "        loss = loss_func(out[:, -1, :],\n",
    "                         target)\n",
    "         \n",
    "        loss.backward()\n",
    "        optimizer.step()\n",
    "\n",
    "        losses.append(loss.detach().cpu().numpy())\n",
    "        losses = losses[-loss_buffer_size:]\n",
    "        if not (prog_bar is None):\n",
    "            # Update progress_bar\n",
    "            s = \"{}:{} Loss: {:.8f}\"\n",
    "            format_list = [e, int(batch_idx/(50/batch_size)), np.mean(losses)]         \n",
    "            s = s.format(*format_list)\n",
    "            prog_bar.set_description(s)\n",
    "        if ((batch_idx*batch_size)%loss_buffer_size == 0) & (batch_idx != 0):\n",
    "            loss_track = {}\n",
    "            #last_test_perf = test_norm(model, 'cuda', test_sig, test_class,\n",
    "            #                                    batch_size=test_size, \n",
    "            #                                    )\n",
    "            loss_track['avg_loss'] = np.mean(losses)\n",
    "            #loss_track['last_test'] = last_test_perf\n",
    "            loss_track['epoch'] = epoch\n",
    "            loss_track['batch_idx'] = batch_idx\n",
    "            with open(perf_file, 'a+') as fp:\n",
    "                csv_writer = DictWriter(fp, fieldnames=list(loss_track.keys()))\n",
    "                if fp.tell() == 0:\n",
    "                    csv_writer.writeheader()\n",
    "                csv_writer.writerow(loss_track)\n",
    "                fp.flush()\n",
    "def test_norm(model, device, seq_length, loss_func, batch_size=100):\n",
    "    model.eval()\n",
    "    correct = 0\n",
    "    count = 0\n",
    "    with torch.no_grad():\n",
    "        sig, target = get_batch(batch_size, seq_length, ttype=ttype)\n",
    "        sig = sig.transpose(0,1).transpose(1,2).unsqueeze(1)\n",
    "        target = target.unsqueeze(1)\n",
    "        out = model(sig)\n",
    "        loss = loss_func(out[:, -1, :],\n",
    "                         target)\n",
    "    return loss"
   ]
  },
  {
   "cell_type": "code",
   "execution_count": null,
   "metadata": {
    "ExecuteTime": {
     "end_time": "2021-02-14T18:58:22.742690Z",
     "start_time": "2021-02-14T18:58:22.736146Z"
    }
   },
   "outputs": [],
   "source": [
    "class DeepSITH_Predictor(nn.Module):\n",
    "    def __init__(self, out_features, layer_params, dropout=.5):\n",
    "        super(DeepSITH_Predictor, self).__init__()\n",
    "        last_hidden = layer_params[-1]['hidden_size']\n",
    "        self.hs = DeepSITH(layer_params=layer_params, dropout=dropout)\n",
    "        self.to_out = nn.Linear(last_hidden, out_features)\n",
    "    def forward(self, inp):\n",
    "        x = self.hs(inp)\n",
    "        x = self.to_out(x)\n",
    "        return x"
   ]
  },
  {
   "cell_type": "code",
   "execution_count": null,
   "metadata": {
    "ExecuteTime": {
     "end_time": "2020-12-15T16:54:00.635027Z",
     "start_time": "2020-12-15T16:54:00.628571Z"
    }
   },
   "outputs": [],
   "source": [
    "import scipy.optimize as opt\n",
    "from deepsith import iSITH\n",
    "def min_fun(x, *args):\n",
    "    ntau = int(args[2])\n",
    "    k = int(x[0])\n",
    "    if k < 4 or k>125:\n",
    "        return np.inf\n",
    "    tau_min = args[0]\n",
    "    tau_max = args[1]    \n",
    "    ev = iSITH(tau_min=tau_min, tau_max=tau_max, buff_max=tau_max*5, k=k, ntau=ntau, dt=1, g=1.0)    \n",
    "    std_0 = ev.filters[:, 0, 0, :].detach().cpu().T.numpy()[::-1].sum(1)[int(tau_min):int(tau_max)].std()\n",
    "    std_1 = ev.filters[:, 0, 0, :].detach().cpu().T.numpy()[::-1, ::2].sum(1)[int(tau_min):int(tau_max)].std()    \n",
    "    to_min = std_0/std_1\n",
    "    return to_min"
   ]
  },
  {
   "cell_type": "markdown",
   "metadata": {},
   "source": [
    "# T = 100"
   ]
  },
  {
   "cell_type": "code",
   "execution_count": null,
   "metadata": {
    "ExecuteTime": {
     "end_time": "2021-02-14T18:58:53.117364Z",
     "start_time": "2021-02-14T18:58:51.398564Z"
    }
   },
   "outputs": [],
   "source": [
    "g = 0.0\n",
    "sith_params1g = {\"in_features\":2, \n",
    "                \"tau_min\":1, \"tau_max\":20.0, 'buff_max':30, \n",
    "                \"k\":74, 'dt':1,\n",
    "                \"ntau\":13, 'g':g,  \n",
    "                \"ttype\":ttype, 'batch_norm':False,\n",
    "                \"hidden_size\":25, \"act_func\":nn.ReLU()}\n",
    "sith_params2g = {\"in_features\":sith_params1g['hidden_size'], \n",
    "                \"tau_min\":1, \"tau_max\":120.0, 'buff_max':250, \n",
    "                \"k\":27, 'dt':1,\n",
    "                \"ntau\":13, 'g':g, \n",
    "                \"ttype\":ttype, 'batch_norm':False,\n",
    "                \"hidden_size\":25, \"act_func\":nn.ReLU()}\n",
    "sith_params3g = {\"in_features\":sith_params2g['hidden_size'], \n",
    "                \"tau_min\":1, \"tau_max\":720.0, 'buff_max':2000, \n",
    "                \"k\":14, 'dt':1,\n",
    "                \"ntau\":13, 'g':g, \n",
    "                \"ttype\":ttype, 'batch_norm':False,\n",
    "                \"hidden_size\":25, \"act_func\":nn.ReLU()}\n",
    "sith_params4g = {\"in_features\":sith_params3g['hidden_size'], \n",
    "                \"tau_min\":1, \"tau_max\":4320.0, 'buff_max':12000, \n",
    "                \"k\":8, 'dt':1,\n",
    "                \"ntau\":13, 'g':g, \n",
    "                \"ttype\":ttype, 'batch_norm':False,\n",
    "                \"hidden_size\":25, \"act_func\":nn.ReLU()}\n",
    "\n",
    "layer_paramsg = [sith_params1g, sith_params2g, sith_params3g, sith_params4g]\n",
    "model = DeepSITH_Predictor(out_features=1,\n",
    "                           layer_params=layer_params, \n",
    "                           dropout=.0).cuda()\n",
    "\n",
    "tot_weights = 0\n",
    "for p in model.parameters():\n",
    "    tot_weights += p.numel()\n",
    "print(\"Total Weights:\", tot_weights)\n",
    "print(model)"
   ]
  },
  {
   "cell_type": "code",
   "execution_count": null,
   "metadata": {
    "ExecuteTime": {
     "end_time": "2021-02-14T19:01:45.164506Z",
     "start_time": "2021-02-14T18:59:03.223881Z"
    }
   },
   "outputs": [],
   "source": [
    "seq_length=100\n",
    "\n",
    "loss_func = nn.MSELoss()\n",
    "optimizer = torch.optim.Adam(model.parameters())\n",
    "epochs = 1\n",
    "progress_bar = tqdm(range(int(epochs)), bar_format='{l_bar}{bar:5}{r_bar}{bar:-5b}')\n",
    "for e in progress_bar:\n",
    "    train(model, ttype, seq_length,\n",
    "          optimizer, loss_func, batch_size=50, loss_buffer_size=100,\n",
    "          epoch=e, perf_file=join('perf','adding100_deepsith_1_same.csv'),\n",
    "          prog_bar=progress_bar)"
   ]
  },
  {
   "cell_type": "markdown",
   "metadata": {},
   "source": [
    "# T = 500"
   ]
  },
  {
   "cell_type": "code",
   "execution_count": null,
   "metadata": {
    "ExecuteTime": {
     "end_time": "2021-02-14T19:03:01.828575Z",
     "start_time": "2021-02-14T19:03:01.805692Z"
    }
   },
   "outputs": [],
   "source": [
    "g = 0.0\n",
    "sith_params1g = {\"in_features\":2, \n",
    "                \"tau_min\":1, \"tau_max\":20.0, 'buff_max':30, \n",
    "                \"k\":74, 'dt':1,\n",
    "                \"ntau\":13, 'g':g,  \n",
    "                \"ttype\":ttype, 'batch_norm':False,\n",
    "                \"hidden_size\":25, \"act_func\":nn.ReLU()}\n",
    "sith_params2g = {\"in_features\":sith_params1g['hidden_size'], \n",
    "                \"tau_min\":1, \"tau_max\":120.0, 'buff_max':250, \n",
    "                \"k\":27, 'dt':1,\n",
    "                \"ntau\":13, 'g':g, \n",
    "                \"ttype\":ttype, 'batch_norm':False,\n",
    "                \"hidden_size\":25, \"act_func\":nn.ReLU()}\n",
    "sith_params3g = {\"in_features\":sith_params2g['hidden_size'], \n",
    "                \"tau_min\":1, \"tau_max\":720.0, 'buff_max':2000, \n",
    "                \"k\":14, 'dt':1,\n",
    "                \"ntau\":13, 'g':g, \n",
    "                \"ttype\":ttype, 'batch_norm':False,\n",
    "                \"hidden_size\":25, \"act_func\":nn.ReLU()}\n",
    "sith_params4g = {\"in_features\":sith_params3g['hidden_size'], \n",
    "                \"tau_min\":1, \"tau_max\":4320.0, 'buff_max':12000, \n",
    "                \"k\":8, 'dt':1,\n",
    "                \"ntau\":13, 'g':g, \n",
    "                \"ttype\":ttype, 'batch_norm':False,\n",
    "                \"hidden_size\":25, \"act_func\":nn.ReLU()}\n",
    "\n",
    "layer_paramsg = [sith_params1g, sith_params2g, sith_params3g, sith_params4g]\n",
    "model = DeepSITH_Predictor(out_features=1,\n",
    "                           layer_params=layer_paramsg, \n",
    "                           dropout=.0).cuda()\n",
    "\n",
    "tot_weights = 0\n",
    "for p in model.parameters():\n",
    "    tot_weights += p.numel()\n",
    "print(\"Total Weights:\", tot_weights)\n",
    "print(model)"
   ]
  },
  {
   "cell_type": "code",
   "execution_count": null,
   "metadata": {
    "ExecuteTime": {
     "end_time": "2021-02-14T19:31:21.639854Z",
     "start_time": "2021-02-14T19:03:07.109721Z"
    }
   },
   "outputs": [],
   "source": [
    "seq_length=500\n",
    "\n",
    "loss_func = nn.MSELoss()\n",
    "optimizer = torch.optim.Adam(model.parameters())\n",
    "epochs = 1\n",
    "progress_bar = tqdm(range(int(epochs)), bar_format='{l_bar}{bar:5}{r_bar}{bar:-5b}')\n",
    "for e in progress_bar:\n",
    "    train(model, ttype, seq_length,\n",
    "          optimizer, loss_func, batch_size=50, loss_buffer_size=100,\n",
    "          epoch=e, perf_file=join('perf','adding500_deepsith_1_same.csv'),\n",
    "          prog_bar=progress_bar)"
   ]
  },
  {
   "cell_type": "markdown",
   "metadata": {},
   "source": [
    "# T = 2000"
   ]
  },
  {
   "cell_type": "code",
   "execution_count": null,
   "metadata": {
    "ExecuteTime": {
     "end_time": "2021-02-14T19:49:40.611103Z",
     "start_time": "2021-02-14T19:49:40.585149Z"
    }
   },
   "outputs": [],
   "source": [
    "g = 0.0\n",
    "sith_params1g = {\"in_features\":2, \n",
    "                \"tau_min\":1, \"tau_max\":20.0, 'buff_max':30, \n",
    "                \"k\":74, 'dt':1,\n",
    "                \"ntau\":13, 'g':g,  \n",
    "                \"ttype\":ttype, 'batch_norm':False,\n",
    "                \"hidden_size\":25, \"act_func\":nn.ReLU()}\n",
    "sith_params2g = {\"in_features\":sith_params1g['hidden_size'], \n",
    "                \"tau_min\":1, \"tau_max\":120.0, 'buff_max':250, \n",
    "                \"k\":27, 'dt':1,\n",
    "                \"ntau\":13, 'g':g, \n",
    "                \"ttype\":ttype, 'batch_norm':False,\n",
    "                \"hidden_size\":25, \"act_func\":nn.ReLU()}\n",
    "sith_params3g = {\"in_features\":sith_params2g['hidden_size'], \n",
    "                \"tau_min\":1, \"tau_max\":720.0, 'buff_max':2000, \n",
    "                \"k\":14, 'dt':1,\n",
    "                \"ntau\":13, 'g':g, \n",
    "                \"ttype\":ttype, 'batch_norm':False,\n",
    "                \"hidden_size\":25, \"act_func\":nn.ReLU()}\n",
    "sith_params4g = {\"in_features\":sith_params3g['hidden_size'], \n",
    "                \"tau_min\":1, \"tau_max\":4320.0, 'buff_max':12000, \n",
    "                \"k\":8, 'dt':1,\n",
    "                \"ntau\":13, 'g':g, \n",
    "                \"ttype\":ttype, 'batch_norm':False,\n",
    "                \"hidden_size\":25, \"act_func\":nn.ReLU()}\n",
    "\n",
    "layer_paramsg = [sith_params1g, sith_params2g, sith_params3g, sith_params4g]\n",
    "model = DeepSITH_Predictor(out_features=1,\n",
    "                           layer_params=layer_paramsg, \n",
    "                           dropout=.0).cuda()\n",
    "\n",
    "tot_weights = 0\n",
    "for p in model.parameters():\n",
    "    tot_weights += p.numel()\n",
    "print(\"Total Weights:\", tot_weights)\n",
    "print(model)"
   ]
  },
  {
   "cell_type": "code",
   "execution_count": null,
   "metadata": {
    "ExecuteTime": {
     "end_time": "2021-02-15T01:54:28.823855Z",
     "start_time": "2021-02-14T19:49:44.294953Z"
    }
   },
   "outputs": [],
   "source": [
    "seq_length=2000\n",
    "\n",
    "loss_func = nn.MSELoss()\n",
    "optimizer = torch.optim.Adam(model.parameters())\n",
    "epochs = 1\n",
    "progress_bar = tqdm(range(int(epochs)), bar_format='{l_bar}{bar:5}{r_bar}{bar:-5b}')\n",
    "for e in progress_bar:\n",
    "    train(model, ttype, seq_length,\n",
    "          optimizer, loss_func, batch_size=50, loss_buffer_size=100,\n",
    "          epoch=e, perf_file=join('perf','adding2000_deepsith_1_same.csv'),\n",
    "          prog_bar=progress_bar)"
   ]
  },
  {
   "cell_type": "markdown",
   "metadata": {},
   "source": [
    "#  T = 5000"
   ]
  },
  {
   "cell_type": "code",
   "execution_count": null,
   "metadata": {
    "ExecuteTime": {
     "end_time": "2021-02-14T19:31:21.651181Z",
     "start_time": "2021-02-14T19:08:34.579Z"
    }
   },
   "outputs": [],
   "source": [
    "g = 0.0\n",
    "sith_params1g = {\"in_features\":2, \n",
    "                \"tau_min\":1, \"tau_max\":20.0, 'buff_max':30, \n",
    "                \"k\":74, 'dt':1,\n",
    "                \"ntau\":13, 'g':g,  \n",
    "                \"ttype\":ttype, 'batch_norm':False,\n",
    "                \"hidden_size\":25, \"act_func\":nn.ReLU()}\n",
    "sith_params2g = {\"in_features\":sith_params1g['hidden_size'], \n",
    "                \"tau_min\":1, \"tau_max\":120.0, 'buff_max':250, \n",
    "                \"k\":27, 'dt':1,\n",
    "                \"ntau\":13, 'g':g, \n",
    "                \"ttype\":ttype, 'batch_norm':False,\n",
    "                \"hidden_size\":25, \"act_func\":nn.ReLU()}\n",
    "sith_params3g = {\"in_features\":sith_params2g['hidden_size'], \n",
    "                \"tau_min\":1, \"tau_max\":720.0, 'buff_max':2000, \n",
    "                \"k\":14, 'dt':1,\n",
    "                \"ntau\":13, 'g':g, \n",
    "                \"ttype\":ttype, 'batch_norm':False,\n",
    "                \"hidden_size\":25, \"act_func\":nn.ReLU()}\n",
    "sith_params4g = {\"in_features\":sith_params3g['hidden_size'], \n",
    "                \"tau_min\":1, \"tau_max\":4320.0, 'buff_max':12000, \n",
    "                \"k\":8, 'dt':1,\n",
    "                \"ntau\":13, 'g':g, \n",
    "                \"ttype\":ttype, 'batch_norm':False,\n",
    "                \"hidden_size\":25, \"act_func\":nn.ReLU()}\n",
    "\n",
    "layer_paramsg = [sith_params1g, sith_params2g, sith_params3g, sith_params4g]\n",
    "\n",
    "\n",
    "model = DeepSITH_Predictor(out_features=1,\n",
    "                           layer_params=layer_paramsg, \n",
    "                           dropout=.0).cuda()\n",
    "\n",
    "tot_weights = 0\n",
    "for p in model.parameters():\n",
    "    tot_weights += p.numel()\n",
    "print(\"Total Weights:\", tot_weights)\n",
    "print(model)"
   ]
  },
  {
   "cell_type": "code",
   "execution_count": null,
   "metadata": {
    "ExecuteTime": {
     "end_time": "2021-02-14T19:31:21.651692Z",
     "start_time": "2021-02-14T19:08:41.113Z"
    }
   },
   "outputs": [],
   "source": [
    "seq_length=5000\n",
    "\n",
    "loss_func = nn.MSELoss()\n",
    "optimizer = torch.optim.Adam(model.parameters())\n",
    "epochs = 1\n",
    "progress_bar = tqdm(range(int(epochs)), bar_format='{l_bar}{bar:5}{r_bar}{bar:-5b}')\n",
    "for e in progress_bar:\n",
    "    train(model, ttype, seq_length,\n",
    "          optimizer, loss_func, batch_size=50, loss_buffer_size=100,\n",
    "          epoch=e, perf_file=join('perf','adding5000_deepsith_1_same.csv'),\n",
    "          prog_bar=progress_bar)"
   ]
  },
  {
   "cell_type": "code",
   "execution_count": null,
   "metadata": {},
   "outputs": [],
   "source": []
  },
  {
   "cell_type": "code",
   "execution_count": null,
   "metadata": {},
   "outputs": [],
   "source": []
  }
 ],
 "metadata": {
  "kernelspec": {
   "display_name": "Python 3",
   "language": "python",
   "name": "python3"
  },
  "language_info": {
   "codemirror_mode": {
    "name": "ipython",
    "version": 3
   },
   "file_extension": ".py",
   "mimetype": "text/x-python",
   "name": "python",
   "nbconvert_exporter": "python",
   "pygments_lexer": "ipython3",
   "version": "3.6.10"
  },
  "toc": {
   "nav_menu": {
    "height": "141px",
    "width": "160px"
   },
   "number_sections": true,
   "sideBar": true,
   "skip_h1_title": false,
   "title_cell": "Table of Contents",
   "title_sidebar": "Contents",
   "toc_cell": false,
   "toc_position": {},
   "toc_section_display": true,
   "toc_window_display": false
  }
 },
 "nbformat": 4,
 "nbformat_minor": 4
}
