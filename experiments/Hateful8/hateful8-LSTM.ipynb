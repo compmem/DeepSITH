{
 "cells": [
  {
   "cell_type": "code",
   "execution_count": null,
   "metadata": {
    "ExecuteTime": {
     "end_time": "2020-12-18T15:21:53.650363Z",
     "start_time": "2020-12-18T15:21:53.466128Z"
    }
   },
   "outputs": [],
   "source": [
    "%matplotlib inline"
   ]
  },
  {
   "cell_type": "code",
   "execution_count": null,
   "metadata": {
    "ExecuteTime": {
     "end_time": "2020-12-18T15:21:54.221984Z",
     "start_time": "2020-12-18T15:21:53.678357Z"
    }
   },
   "outputs": [],
   "source": [
    "import matplotlib.pyplot as plt\n",
    "import torch\n",
    "from torch import nn as nn\n",
    "from math import factorial\n",
    "import random\n",
    "import torch.nn.functional as F\n",
    "import numpy as np\n",
    "import seaborn as sn\n",
    "import pandas as pd\n",
    "import os \n",
    "from os.path import join\n",
    "import glob\n",
    "from math import factorial\n",
    "ttype = torch.cuda.FloatTensor if torch.cuda.is_available() else torch.FloatTensor\n",
    "ctype = torch.cuda.LongTensor if torch.cuda.is_available() else torch.LongTensor\n",
    "print(ttype)\n",
    "from torch.nn.utils import weight_norm\n",
    "\n",
    "from tqdm.notebook import tqdm\n",
    "import pickle\n",
    "sn.set_context(\"poster\")\n",
    "import itertools\n",
    "from csv import DictWriter\n",
    "import matplotlib.pylab as plt\n",
    "import csv\n",
    "import numpy as np\n",
    "import pandas as pd\n",
    "import os\n",
    "import seaborn as sn\n",
    "sn.set_context('talk')"
   ]
  },
  {
   "cell_type": "code",
   "execution_count": null,
   "metadata": {
    "ExecuteTime": {
     "end_time": "2020-12-18T15:24:24.946369Z",
     "start_time": "2020-12-18T15:24:24.822539Z"
    }
   },
   "outputs": [],
   "source": [
    "def generate_noise(maxn=18):\n",
    "    \"\"\"Generates dot and dash based noise.\"\"\"\n",
    "    \n",
    "    threes = np.random.randint(int(.5*maxn), int(.75*maxn))\n",
    "    ones = (maxn - threes) * 2\n",
    "    noise = list(itertools.repeat([1,1,1,0], threes))\n",
    "    noise[:int(len(noise)/3)] = list(itertools.repeat([0,0], int(len(noise)/3)))\n",
    "    ones = ones + int(len(noise)/3)\n",
    "    noise.extend(list(itertools.repeat([1,0], ones)))\n",
    "    random.shuffle(noise)\n",
    "    noise = np.concatenate(noise)\n",
    "    return noise\n",
    "noise = generate_noise()\n",
    "print(noise.shape)\n",
    "plt.plot(noise)"
   ]
  },
  {
   "cell_type": "code",
   "execution_count": null,
   "metadata": {
    "ExecuteTime": {
     "end_time": "2020-12-18T15:24:32.691623Z",
     "start_time": "2020-12-18T15:24:30.795867Z"
    }
   },
   "outputs": [],
   "source": [
    "sig_lets = [\"A\",\"B\",\"C\",\"D\",\"E\",\"F\",\"G\",\"H\",]\n",
    "\n",
    "signals = ttype([[0,1,1,1,0,1,1,1,0,1,0,1,0,1,0,0,0],\n",
    "                 [0,1,1,1,0,1,0,1,1,1,0,1,0,1,0,0,0],\n",
    "                 [0,1,1,1,0,1,0,1,0,1,1,1,0,1,0,0,0],\n",
    "                 [0,1,1,1,0,1,0,1,0,1,0,1,1,1,0,0,0],\n",
    "                 [0,1,0,1,1,1,0,1,1,1,0,1,1,1,0,0,0],\n",
    "                 [0,1,1,1,0,1,0,1,1,1,0,1,1,1,0,0,0],\n",
    "                 [0,1,1,1,0,1,1,1,0,1,0,1,1,1,0,0,0],\n",
    "                 [0,1,1,1,0,1,1,1,0,1,1,1,0,1,0,0,0]]\n",
    "               ).view(8, 1, 1, -1)\n",
    "#signals = ms\n",
    "key2id = {k:i for i, k in enumerate(sig_lets)}\n",
    "\n",
    "print(key2id)\n"
   ]
  },
  {
   "cell_type": "code",
   "execution_count": null,
   "metadata": {
    "ExecuteTime": {
     "end_time": "2020-12-11T18:54:00.513324Z",
     "start_time": "2020-12-11T18:54:00.368662Z"
    }
   },
   "outputs": [],
   "source": [
    "torch.manual_seed(12345)\n",
    "np.random.seed(12345)\n",
    "training_samples = 32\n",
    "\n",
    "training_signals = []\n",
    "training_class = []\n",
    "\n",
    "for i, sig in enumerate(signals):\n",
    "    temp_signals = []\n",
    "    temp_class = []\n",
    "    for x in range(training_samples):\n",
    "        noise = ttype(generate_noise())\n",
    "        temp = torch.cat([sig[0,0], noise]).unsqueeze(0)\n",
    "        while(any([(temp == c_).all() for c_ in temp_signals])):\n",
    "            noise = ttype(generate_noise())\n",
    "            temp = torch.cat([sig[0,0], noise]).unsqueeze(0)\n",
    "        temp_signals.append(temp)\n",
    "        temp_class.append(i)\n",
    "    training_signals.extend(temp_signals)\n",
    "    training_class.extend(temp_class)\n",
    "\n",
    "batch_rand = torch.randperm(training_samples*signals.shape[0])        \n",
    "training_signals = torch.cat(training_signals).cuda().unsqueeze(-1)[batch_rand]\n",
    "training_class  = ctype(training_class).cuda().unsqueeze(-1)[batch_rand]\n",
    "\n",
    "dataset = torch.utils.data.TensorDataset(training_signals, training_class)\n",
    "dataset = torch.utils.data.DataLoader(dataset, batch_size=32, shuffle=True)\n",
    "\n"
   ]
  },
  {
   "cell_type": "code",
   "execution_count": null,
   "metadata": {
    "ExecuteTime": {
     "end_time": "2020-12-11T18:54:02.761255Z",
     "start_time": "2020-12-11T18:54:02.121822Z"
    }
   },
   "outputs": [],
   "source": [
    "testing_samples = 10\n",
    "testing_signals = []\n",
    "testing_class = []\n",
    "\n",
    "for i, sig in enumerate(signals):\n",
    "    temp_signals = []\n",
    "    temp_class = []\n",
    "    for x in range(testing_samples):\n",
    "        noise = ttype(generate_noise())\n",
    "        temp = torch.cat([sig[0,0], noise]).unsqueeze(0)\n",
    "        while(any([(temp == c_).all() for c_ in temp_signals]) or any([(temp == c_).all() for c_ in training_signals])):\n",
    "            noise = ttype(generate_noise())\n",
    "            temp = torch.cat([sig[0,0], noise]).unsqueeze(0)\n",
    "        temp_signals.append(temp)\n",
    "        temp_class.append(i)\n",
    "    testing_signals.extend(temp_signals)\n",
    "    testing_class.extend(temp_class)\n",
    "batch_rand = torch.randperm(testing_samples*signals.shape[0])\n",
    "\n",
    "testing_signals = torch.cat(testing_signals).cuda().unsqueeze(-1)[batch_rand]\n",
    "testing_class  = ctype(testing_class).cuda().unsqueeze(-1)[batch_rand]\n",
    "\n",
    "\n",
    "dataset_valid = torch.utils.data.TensorDataset(testing_signals, testing_class)\n",
    "dataset_valid = torch.utils.data.DataLoader(dataset_valid, batch_size=32, shuffle=False)\n"
   ]
  },
  {
   "cell_type": "code",
   "execution_count": null,
   "metadata": {
    "ExecuteTime": {
     "end_time": "2020-12-18T15:24:33.846618Z",
     "start_time": "2020-12-18T15:24:33.842381Z"
    }
   },
   "outputs": [],
   "source": [
    "class LSTM_Predictor(nn.Module):\n",
    "    def __init__(self, out_features, lstm_params):\n",
    "        super(LSTM_Predictor, self).__init__()\n",
    "        self.lstm = nn.LSTM(**lstm_params)\n",
    "        self.to_out = nn.Linear(lstm_params['hidden_size'], \n",
    "                                out_features)\n",
    "    def forward(self, inp):\n",
    "        x = self.lstm(inp)[0].transpose(1,0)\n",
    "        x = torch.tanh(self.to_out(x))\n",
    "        return x"
   ]
  },
  {
   "cell_type": "code",
   "execution_count": null,
   "metadata": {
    "ExecuteTime": {
     "end_time": "2020-12-18T15:24:48.479338Z",
     "start_time": "2020-12-18T15:24:48.463241Z"
    }
   },
   "outputs": [],
   "source": [
    "def train(model, ttype, train_loader, test_loader, optimizer, loss_func, epoch, perf_file,\n",
    "          permute=None, loss_buffer_size=64, batch_size=4, device='cuda',\n",
    "          prog_bar=None,  maxn=6):\n",
    "    \n",
    "    assert(loss_buffer_size%batch_size==0)\n",
    "        \n",
    "    losses = []\n",
    "    perfs = []\n",
    "    last_test_perf = 0\n",
    "    best_test_perf = -1\n",
    "    \n",
    "    for batch_idx, (data, target) in enumerate(train_loader):\n",
    "        model.train()\n",
    "        data = data.to(device).transpose(1,0)\n",
    "        target = target.to(device)\n",
    "        optimizer.zero_grad()\n",
    "        out = model(data)\n",
    "        loss = loss_func(out[:, -1, :],\n",
    "                         target[:, 0])\n",
    "        \n",
    "        loss.backward()\n",
    "        optimizer.step()\n",
    "\n",
    "        perfs.append((torch.argmax(out[:, -1, :], dim=-1) == \n",
    "                      target[:, 0]).sum().item())\n",
    "        perfs = perfs[int(-loss_buffer_size/batch_size):]\n",
    "        losses.append(loss.detach().cpu().numpy())\n",
    "        losses = losses[int(-loss_buffer_size/batch_size):]\n",
    "        if not (prog_bar is None):\n",
    "            # Update progress_bar\n",
    "            s = \"{}:{} Loss: {:.4f}, perf: {:.4f}, valid: {:.4f}\"\n",
    "            format_list = [e,batch_idx*batch_size, np.mean(losses), \n",
    "                           np.sum(perfs)/((len(perfs))*batch_size), last_test_perf]         \n",
    "            s = s.format(*format_list)\n",
    "            prog_bar.set_description(s)\n",
    "        \n",
    "        if ((batch_idx*batch_size)%loss_buffer_size == 0) & (batch_idx != 0):\n",
    "            loss_track = {}\n",
    "            last_test_perf = test(model, 'cuda', test_loader, \n",
    "                                  batch_size=batch_size, \n",
    "                                  permute=permute)\n",
    "            loss_track['avg_loss'] = np.mean(losses)\n",
    "            loss_track['last_test'] = last_test_perf\n",
    "            loss_track['epoch'] = epoch\n",
    "            loss_track['maxn'] = maxn\n",
    "            loss_track['batch_idx'] = batch_idx\n",
    "            loss_track['pres_num'] = batch_idx*batch_size + epoch*len(train_loader.dataset)\n",
    "            loss_track['train_perf']= np.sum(perfs)/((len(perfs))*batch_size)\n",
    "            with open(perf_file, 'a+') as fp:\n",
    "                csv_writer = DictWriter(fp, fieldnames=list(loss_track.keys()))\n",
    "                if fp.tell() == 0:\n",
    "                    csv_writer.writeheader()\n",
    "                csv_writer.writerow(loss_track)\n",
    "                fp.flush()\n",
    "            #if best_test_perf < last_test_perf:\n",
    "            #    torch.save(model.state_dict(), perf_file[:-4]+\".pt\")\n",
    "            #    best_test_perf = last_test_perf\n",
    "\n",
    "                \n",
    "def test(model, device, test_loader, batch_size=4, permute=None):\n",
    "    model.eval()\n",
    "    correct = 0\n",
    "    count = 0\n",
    "    with torch.no_grad():\n",
    "        for data, target in test_loader:\n",
    "            data = data.to(device).transpose(1,0)\n",
    "            target = target.to(device)\n",
    "            \n",
    "            out = model(data)\n",
    "            pred = out[:, -1, :].argmax(dim=-1, keepdim=True)\n",
    "            \n",
    "            correct += pred.eq(target.view_as(pred)).sum().item()\n",
    "            count += 1\n",
    "    return correct / len(test_loader.dataset)"
   ]
  },
  {
   "cell_type": "code",
   "execution_count": null,
   "metadata": {},
   "outputs": [],
   "source": []
  },
  {
   "cell_type": "markdown",
   "metadata": {},
   "source": [
    "# Training and testing"
   ]
  },
  {
   "cell_type": "code",
   "execution_count": null,
   "metadata": {
    "ExecuteTime": {
     "end_time": "2020-12-11T18:58:50.330501Z",
     "start_time": "2020-12-11T18:58:50.327920Z"
    }
   },
   "outputs": [],
   "source": [
    "# You likely don't need this to be this long, but just in case.\n",
    "epochs = 1000\n",
    "\n",
    "# Just for visualizing average loss through time. \n",
    "loss_buffer_size = 100"
   ]
  },
  {
   "cell_type": "code",
   "execution_count": null,
   "metadata": {
    "ExecuteTime": {
     "end_time": "2020-12-18T16:14:26.814579Z",
     "start_time": "2020-12-18T16:13:00.732980Z"
    },
    "scrolled": true
   },
   "outputs": [],
   "source": [
    "test_noise_lengths = [6,7,9,13,21,37]\n",
    "for maxn in test_noise_lengths:\n",
    "    torch.manual_seed(12345)\n",
    "    np.random.seed(12345)\n",
    "    training_samples = 32\n",
    "\n",
    "    training_signals = []\n",
    "    training_class = []\n",
    "\n",
    "    for i, sig in enumerate(signals):\n",
    "        temp_signals = []\n",
    "        temp_class = []\n",
    "        for x in range(training_samples):\n",
    "            noise = ttype(generate_noise(maxn))\n",
    "            temp = torch.cat([sig[0,0], noise]).unsqueeze(0)\n",
    "            while(any([(temp == c_).all() for c_ in temp_signals])):\n",
    "                noise = ttype(generate_noise(maxn))\n",
    "                temp = torch.cat([sig[0,0], noise]).unsqueeze(0)\n",
    "            temp_signals.append(temp)\n",
    "            temp_class.append(i)\n",
    "        training_signals.extend(temp_signals)\n",
    "        training_class.extend(temp_class)\n",
    "\n",
    "    batch_rand = torch.randperm(training_samples*signals.shape[0])        \n",
    "    training_signals = torch.cat(training_signals).cuda().unsqueeze(-1)[batch_rand]\n",
    "    training_class  = ctype(training_class).cuda().unsqueeze(-1)[batch_rand]\n",
    "\n",
    "    dataset = torch.utils.data.TensorDataset(training_signals, training_class)\n",
    "    dataset = torch.utils.data.DataLoader(dataset, batch_size=32, shuffle=True)\n",
    "    testing_samples = 10\n",
    "    testing_signals = []\n",
    "    testing_class = []\n",
    "\n",
    "    for i, sig in enumerate(signals):\n",
    "        temp_signals = []\n",
    "        temp_class = []\n",
    "        for x in range(testing_samples):\n",
    "            noise = ttype(generate_noise(maxn))\n",
    "            temp = torch.cat([sig[0,0], noise]).unsqueeze(0)\n",
    "            while(any([(temp == c_).all() for c_ in temp_signals]) or any([(temp == c_).all() for c_ in training_signals])):\n",
    "                noise = ttype(generate_noise(maxn))\n",
    "                temp = torch.cat([sig[0,0], noise]).unsqueeze(0)\n",
    "            temp_signals.append(temp)\n",
    "            temp_class.append(i)\n",
    "        testing_signals.extend(temp_signals)\n",
    "        testing_class.extend(temp_class)\n",
    "    batch_rand = torch.randperm(testing_samples*signals.shape[0])\n",
    "\n",
    "    testing_signals = torch.cat(testing_signals).cuda().unsqueeze(-1)[batch_rand]\n",
    "    testing_class  = ctype(testing_class).cuda().unsqueeze(-1)[batch_rand]\n",
    "\n",
    "\n",
    "    dataset_valid = torch.utils.data.TensorDataset(testing_signals, testing_class)\n",
    "    dataset_valid = torch.utils.data.DataLoader(dataset_valid, batch_size=32, shuffle=False)\n",
    "    lstm_params = dict(input_size=1,\n",
    "               hidden_size=38, \n",
    "               num_layers=3)\n",
    "    model = LSTM_Predictor(8, lstm_params=lstm_params).cuda()\n",
    "\n",
    "    tot_weights = 0\n",
    "    for p in model.parameters():\n",
    "        tot_weights += p.numel()\n",
    "    print(\"Total Weights:\", tot_weights)\n",
    "    print(model)\n",
    "    loss_func = torch.nn.CrossEntropyLoss()\n",
    "    optimizer = torch.optim.Adam(model.parameters())\n",
    "    epochs = 400\n",
    "    batch_size = 32\n",
    "    progress_bar = tqdm(range(int(epochs)), bar_format='{l_bar}{bar:5}{r_bar}{bar:-5b}')\n",
    "    for e in progress_bar:\n",
    "        train(model, ttype, dataset, dataset_valid, \n",
    "              optimizer, loss_func, batch_size=batch_size,\n",
    "              epoch=e, perf_file=join('perf','h8_lstm_length_0.csv'),\n",
    "              prog_bar=progress_bar, maxn=maxn)"
   ]
  }
 ],
 "metadata": {
  "kernelspec": {
   "display_name": "Python 3",
   "language": "python",
   "name": "python3"
  },
  "language_info": {
   "codemirror_mode": {
    "name": "ipython",
    "version": 3
   },
   "file_extension": ".py",
   "mimetype": "text/x-python",
   "name": "python",
   "nbconvert_exporter": "python",
   "pygments_lexer": "ipython3",
   "version": "3.6.10"
  },
  "toc": {
   "nav_menu": {},
   "number_sections": true,
   "sideBar": true,
   "skip_h1_title": false,
   "title_cell": "Table of Contents",
   "title_sidebar": "Contents",
   "toc_cell": false,
   "toc_position": {},
   "toc_section_display": true,
   "toc_window_display": false
  }
 },
 "nbformat": 4,
 "nbformat_minor": 4
}
