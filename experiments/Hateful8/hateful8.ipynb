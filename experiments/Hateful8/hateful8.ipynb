{
 "cells": [
  {
   "cell_type": "code",
   "execution_count": 1,
   "metadata": {},
   "outputs": [],
   "source": [
    "%matplotlib inline"
   ]
  },
  {
   "cell_type": "code",
   "execution_count": 2,
   "metadata": {},
   "outputs": [
    {
     "name": "stdout",
     "output_type": "stream",
     "text": [
      "<class 'torch.cuda.DoubleTensor'>\n"
     ]
    }
   ],
   "source": [
    "import matplotlib.pyplot as plt\n",
    "import torch\n",
    "from torch import nn as nn\n",
    "from math import factorial\n",
    "import random\n",
    "import torch.nn.functional as F\n",
    "import numpy as np\n",
    "import seaborn as sn\n",
    "import pandas as pd\n",
    "import os \n",
    "from os.path import join\n",
    "import glob\n",
    "from math import factorial\n",
    "ttype = torch.cuda.DoubleTensor if torch.cuda.is_available() else torch.DoubleTensor\n",
    "print(ttype)\n",
    "from deep_isith import DeepSITH\n",
    "from tqdm.notebook import tqdm\n",
    "import pickle\n",
    "sn.set_context(\"poster\")"
   ]
  },
  {
   "cell_type": "code",
   "execution_count": 3,
   "metadata": {},
   "outputs": [
    {
     "name": "stdout",
     "output_type": "stream",
     "text": [
      "{'A': 0, 'B': 1, 'C': 2, 'D': 3, 'E': 4, 'F': 5, 'G': 6, 'H': 7}\n"
     ]
    }
   ],
   "source": [
    "sig_lets = [\"A\",\"B\",\"C\",\"D\",\"E\",\"F\",\"G\",\"H\",]\n",
    "signals = ttype([[0,1,1,1,0,1,1,1,0,1,0,1,0,1,0,0,0,0,0,0,0,0,0,0,0,0,0,0,0,0,0,1,0,0],\n",
    "                [0,1,1,1,0,1,0,1,1,1,0,1,0,1,0,0,0,0,0,0,0,0,0,0,0,0,0,0,0,0,0,1,0,0],\n",
    "                [0,1,1,1,0,1,0,1,0,1,1,1,0,1,0,0,0,0,0,0,0,0,0,0,0,0,0,0,0,0,0,1,0,0],\n",
    "                [0,1,1,1,0,1,0,1,0,1,0,1,1,1,0,0,0,0,0,0,0,0,0,0,0,0,0,0,0,0,0,1,0,0],\n",
    "                [0,1,0,1,1,1,0,1,1,1,0,1,1,1,0,0,0,0,0,0,0,0,0,0,0,0,0,0,0,0,0,1,0,0],\n",
    "                [0,1,1,1,0,1,0,1,1,1,0,1,1,1,0,0,0,0,0,0,0,0,0,0,0,0,0,0,0,0,0,1,0,0],\n",
    "                [0,1,1,1,0,1,1,1,0,1,0,1,1,1,0,0,0,0,0,0,0,0,0,0,0,0,0,0,0,0,0,1,0,0],\n",
    "                [0,1,1,1,0,1,1,1,0,1,1,1,0,1,0,0,0,0,0,0,0,0,0,0,0,0,0,0,0,0,0,1,0,0]]\n",
    "               ).view(8, 1, 1, -1)\n",
    "#signals = ms\n",
    "key2id = {k:i for i, k in enumerate(sig_lets)}\n",
    "\n",
    "print(key2id)\n"
   ]
  },
  {
   "cell_type": "code",
   "execution_count": 4,
   "metadata": {},
   "outputs": [],
   "source": [
    "def train_model(model, \n",
    "                signals,\n",
    "                optimizer,\n",
    "                loss_func,\n",
    "                train_dur=2.0,\n",
    "                test_durs=[1.5, 2.0, 2.5],\n",
    "                epochs=1500,\n",
    "                loss_buffer_size=50,\n",
    "                testing_every=30):\n",
    "    loss_track = {\"loss\":[],\n",
    "                  \"epoch\":[],\n",
    "                  \"acc\":[],\n",
    "                  \"perf\":[]}\n",
    "    losses = []\n",
    "    \n",
    "    progress_bar = tqdm(range(int(epochs)), ncols=800)\n",
    "    for e in progress_bar:\n",
    "        perm = torch.arange(signals.shape[0]).type(torch.cuda.LongTensor)\n",
    "        \n",
    "        # Zero the gradient between each batch\n",
    "        model.zero_grad()\n",
    "        \n",
    "        \n",
    "        # Present an entire batch to the model\n",
    "        out = model(signals[perm])\n",
    "        # Measure loss via CrossEntropyLoss\n",
    "        loss = loss_func(out[:, -1], \n",
    "                         perm)\n",
    "            \n",
    "        # Adjust Weights\n",
    "        loss.backward()\n",
    "        optimizer.step()\n",
    "        \n",
    "        losses.append(loss.detach().cpu().numpy())\n",
    "        if len(losses) > loss_buffer_size:\n",
    "            losses = losses[1:]\n",
    "        \n",
    "        # Record loss, epoch number, batch number in epoch, \n",
    "        # last accuracy measure, etc\n",
    "        loss_track['loss'].append(np.mean(losses))\n",
    "        loss_track['epoch'].append(e)\n",
    "        \n",
    "        # calculate model accuracy:\n",
    "        if ((e)%testing_every == 0) & (e != 0):\n",
    "            model.eval()\n",
    "            perf = test_model(model, signals)\n",
    "            model.train()\n",
    "            loss_track['perf'].append(perf)\n",
    "        if e > testing_every:\n",
    "            # Update progress_bar\n",
    "            s = \"{}: Loss: {:.6f}, Acc:{:.4f}\"\n",
    "            format_list = [e, loss_track['loss'][-1]] + [perf]            \n",
    "            s = s.format(*format_list)\n",
    "            progress_bar.set_description(s)\n",
    "            if loss_track['perf'][-1] == 1.0:\n",
    "                break\n",
    "    return loss_track\n",
    "\n",
    "def test_model(model, signals):\n",
    "    # Test the Model\n",
    "    out = model(signals)\n",
    "    perf = (torch.argmax(out[:, -1, :], dim=-1) ==  torch.arange(signals.shape[0]).cuda()).sum().item() / signals.shape[0]\n",
    "    \n",
    "    return perf"
   ]
  },
  {
   "cell_type": "markdown",
   "metadata": {},
   "source": [
    "# Setup Classifier type model"
   ]
  },
  {
   "cell_type": "code",
   "execution_count": 5,
   "metadata": {},
   "outputs": [],
   "source": [
    "class DeepSITH_Classifier(nn.Module):\n",
    "    def __init__(self, out_features, layer_params, dropout=.5):\n",
    "        super(DeepSITH_Classifier, self).__init__()\n",
    "        last_hidden = layer_params[-1]['hidden_size']\n",
    "        self.hs = DeepSITH(layer_params=layer_params, dropout=dropout)\n",
    "        self.to_out = nn.Linear(last_hidden, out_features)\n",
    "    def forward(self, inp):\n",
    "        x = self.hs(inp)\n",
    "        x = self.to_out(x)\n",
    "        return x"
   ]
  },
  {
   "cell_type": "markdown",
   "metadata": {},
   "source": [
    "# TEST layers for correct taustars/parameters/cvalues\n",
    "These dictionaries will not be used later. "
   ]
  },
  {
   "cell_type": "code",
   "execution_count": 16,
   "metadata": {
    "scrolled": true
   },
   "outputs": [
    {
     "name": "stdout",
     "output_type": "stream",
     "text": [
      "DeepSITH_Classifier(\n",
      "  (hs): DeepSITH(\n",
      "    (layers): ModuleList(\n",
      "      (0): _DeepSITH_core(\n",
      "        (sith): iSITH()\n",
      "        (linear): Sequential(\n",
      "          (0): Linear(in_features=5, out_features=10, bias=True)\n",
      "          (1): ReLU()\n",
      "        )\n",
      "      )\n",
      "      (1): _DeepSITH_core(\n",
      "        (sith): iSITH()\n",
      "        (linear): Sequential(\n",
      "          (0): Linear(in_features=50, out_features=20, bias=True)\n",
      "          (1): ReLU()\n",
      "        )\n",
      "      )\n",
      "    )\n",
      "    (dropouts): ModuleList(\n",
      "      (0): Dropout(p=0.0, inplace=False)\n",
      "    )\n",
      "  )\n",
      "  (to_out): Linear(in_features=20, out_features=8, bias=True)\n",
      ")\n",
      "Layer 0 tensor([ 1.0000,  2.1147,  4.4721,  9.4574, 20.0000], device='cuda:0',\n",
      "       dtype=torch.float64)\n",
      "Layer 1 tensor([1.0000e-01, 6.6874e-01, 4.4721e+00, 2.9907e+01, 2.0000e+02],\n",
      "       device='cuda:0', dtype=torch.float64)\n",
      "Total Weights: 1278\n"
     ]
    }
   ],
   "source": [
    "sith_params2 = {\"in_features\":1, \n",
    "                \"tau_min\":1, \"tau_max\":20.0, 'buff_max':40,\n",
    "                \"k\":50,\n",
    "                \"ntau\":5, 'g':0,  \n",
    "                \"ttype\":ttype, \n",
    "                \"hidden_size\":10, \"act_func\":nn.ReLU()}\n",
    "sith_params3 = {\"in_features\":sith_params2['hidden_size'], \n",
    "                \"tau_min\":.1, \"tau_max\":200.0,  'buff_max':400,\n",
    "                \"k\":50,\n",
    "                \"ntau\":5, 'g':0, \n",
    "                \"ttype\":ttype, \n",
    "                \"hidden_size\":20, \"act_func\":nn.ReLU()}\n",
    "layer_params = [sith_params2, sith_params3]\n",
    "model = DeepSITH_Classifier(out_features=signals.shape[0],\n",
    "                            layer_params=layer_params, dropout=.0).cuda().double()\n",
    "print(model)\n",
    "for i, l in enumerate(model.hs.layers):\n",
    "    print(\"Layer {}\".format(i), l.sith.tau_star)\n",
    "tot_weights = 0\n",
    "for p in model.parameters():\n",
    "    tot_weights += p.numel()\n",
    "print(\"Total Weights:\", tot_weights)"
   ]
  },
  {
   "cell_type": "code",
   "execution_count": 18,
   "metadata": {},
   "outputs": [
    {
     "data": {
      "image/png": "[encoded data removed]",
      "text/plain": [
       "<Figure size 432x288 with 1 Axes>"
      ]
     },
     "metadata": {
      "needs_background": "light"
     },
     "output_type": "display_data"
    }
   ],
   "source": [
    " "
   ]
  },
  {
   "cell_type": "markdown",
   "metadata": {},
   "source": [
    "# Visualize the taustar buffers\n",
    "They must all completely empty or there will be edge effects"
   ]
  },
  {
   "cell_type": "markdown",
   "metadata": {},
   "source": [
    "# Training and testing"
   ]
  },
  {
   "cell_type": "code",
   "execution_count": 150,
   "metadata": {},
   "outputs": [],
   "source": [
    "# You likely don't need this to be this long, but just in case.\n",
    "epochs = 1000\n",
    "\n",
    "# Just for visualizing average loss through time. \n",
    "loss_buffer_size = 100"
   ]
  },
  {
   "cell_type": "code",
   "execution_count": 151,
   "metadata": {},
   "outputs": [],
   "source": [
    "loss_func = torch.nn.CrossEntropyLoss()"
   ]
  },
  {
   "cell_type": "code",
   "execution_count": 152,
   "metadata": {
    "scrolled": true
   },
   "outputs": [
    {
     "data": {
      "application/vnd.jupyter.widget-view+json": {
       "model_id": "6814809b91b84e5cbd1f6b68accc9b77",
       "version_major": 2,
       "version_minor": 0
      },
      "text/plain": [
       "HBox(children=(FloatProgress(value=0.0, layout=Layout(flex='2'), max=1000.0), HTML(value='')), layout=Layout(d…"
      ]
     },
     "metadata": {},
     "output_type": "display_data"
    }
   ],
   "source": [
    "sith_params2 = {\"in_features\":1, \n",
    "                \"tau_min\":.1, \"tau_max\":20.0, 'buff_max':40,\n",
    "                \"k\":50,\n",
    "                \"ntau\":10, 'g':0,  \n",
    "                \"ttype\":ttype, \n",
    "                \"hidden_size\":10, \"act_func\":nn.ReLU()}\n",
    "sith_params3 = {\"in_features\":sith_params2['hidden_size'], \n",
    "                \"tau_min\":.1, \"tau_max\":200.0,  'buff_max':240,\n",
    "                \"k\":50,\n",
    "                \"ntau\":10, 'g':0, \n",
    "                \"ttype\":ttype, \n",
    "                \"hidden_size\":20, \"act_func\":nn.ReLU()}\n",
    "layer_params = [sith_params2, sith_params3]\n",
    "\n",
    "model = DeepSITH_Classifier(out_features=signals.shape[0],\n",
    "                            layer_params=layer_params, \n",
    "                            \n",
    "                            dropout=0.).cuda().double()\n",
    "optimizer = torch.optim.Adam(model.parameters())\n",
    "perf = train_model(model, signals, optimizer, loss_func,\n",
    "                   train_dur=train_dur, epochs=epochs, \n",
    "                   loss_buffer_size=loss_buffer_size)\n",
    "perfs.append(perf)"
   ]
  },
  {
   "cell_type": "code",
   "execution_count": null,
   "metadata": {},
   "outputs": [],
   "source": [
    "with open('filename.dill', 'wb') as handle:\n",
    "    pickle.dump(perf, handle, protocol=pickle.HIGHEST_PROTOCOL)"
   ]
  },
  {
   "cell_type": "code",
   "execution_count": 154,
   "metadata": {
    "scrolled": false
   },
   "outputs": [
    {
     "data": {
      "image/png": "[encoded data removed]",
      "text/plain": [
       "<Figure size 576x720 with 2 Axes>"
      ]
     },
     "metadata": {
      "needs_background": "light"
     },
     "output_type": "display_data"
    }
   ],
   "source": [
    "fig = plt.figure(figsize=(8,10))\n",
    "ax = fig.add_subplot(2,1,1)\n",
    "ax.plot(perfs[-1]['loss'])\n",
    "ax.set_ylabel(\"Loss\")\n",
    "#ax.set_xlabel(\"Presentation Number\")\n",
    "\n",
    "ax = fig.add_subplot(2,1,2)\n",
    "dat = pd.DataFrame(perfs[-1]['perf'])\n",
    "ax.plot(np.arange(dat.shape[0])*30, dat)\n",
    "ax.set_ylabel(\"Classification Acc\")\n",
    "ax.set_xlabel(\"Presentation Number\")\n",
    "()\n",
    "plt.savefig(join(\"figs\",\"DeepSith_training_H8\"))"
   ]
  },
  {
   "cell_type": "code",
   "execution_count": null,
   "metadata": {},
   "outputs": [],
   "source": []
  }
 ],
 "metadata": {
  "kernelspec": {
   "display_name": "Python 3",
   "language": "python",
   "name": "python3"
  },
  "language_info": {
   "codemirror_mode": {
    "name": "ipython",
    "version": 3
   },
   "file_extension": ".py",
   "mimetype": "text/x-python",
   "name": "python",
   "nbconvert_exporter": "python",
   "pygments_lexer": "ipython3",
   "version": "3.6.10"
  },
  "toc": {
   "nav_menu": {},
   "number_sections": true,
   "sideBar": true,
   "skip_h1_title": false,
   "title_cell": "Table of Contents",
   "title_sidebar": "Contents",
   "toc_cell": false,
   "toc_position": {},
   "toc_section_display": true,
   "toc_window_display": false
  }
 },
 "nbformat": 4,
 "nbformat_minor": 4
}
